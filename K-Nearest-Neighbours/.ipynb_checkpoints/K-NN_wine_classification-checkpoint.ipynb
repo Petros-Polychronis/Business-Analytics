{
 "cells": [
  {
   "cell_type": "markdown",
   "metadata": {},
   "source": [
    "# Assignment 1: Predicting Wine Quality with k-Nearest Neighbours\n"
   ]
  },
  {
   "cell_type": "code",
   "execution_count": 1,
   "metadata": {},
   "outputs": [],
   "source": [
    "## this is to test whether git has worked! This is to test the Pull option from GitHub Desktop!"
   ]
  },
  {
   "cell_type": "code",
   "execution_count": 2,
   "metadata": {},
   "outputs": [],
   "source": [
    "## Let's try the to create a pull request with this comment! OK!"
   ]
  },
  {
   "cell_type": "code",
   "execution_count": 3,
   "metadata": {},
   "outputs": [],
   "source": [
    "## A new attempt for pull request!"
   ]
  },
  {
   "cell_type": "markdown",
   "metadata": {},
   "source": [
    "> ### \"*Tell me who your neighbours are, and I will tell you who you are.*\""
   ]
  },
  {
   "cell_type": "markdown",
   "metadata": {},
   "source": [
    "Professional wine connoisseurs are typically able to recognize a good wine upon tasting it. While wine quality evaluation, just like any taste-driven endeavour, is subjective, there is generally a stronger consensus among experts on what represents a 'good' wine than in the case of most other beverages, such as beer or coffee.\n",
    "\n",
    "Even so, the attributes of a wine that critics generally use to judge its quality relate to the state of the wine when it is ready to be consumed. For instance, a wine's colour, consistency, aroma, texture and balance are all qualities that critics assess in order to rate a wine. These characteristics are determined by the procurement (e.g., grape quality) and chemical processing (e.g., acidity) phases of the wine-making process, but it is not always evident how these earlier stages ultimately affect a wine's quality. Providing a quantitative and scientific basis to the chemical drivers of wine quality is a task that machine learning can help with. \n",
    "\n",
    "This report aims to develop a **k-Nearest Neighbours (k-NN) classifier that categorises whether a wine is 'good' based on a number of its chemical composition attributes**: fixed acidity, volatile acidity, citric acid, chlorides, free sulfur dioxide, total sulfur dioxide, density, pH, sulphates, and alcohol percentage. The use cases of such  classifiers are varied, from wine producers being able to adjust the chemical attributes of new wines to increase their likelihood of being of high quality, to wine retailers deciding whether to order a wine that has not been reviewed.\n",
    "\n",
    "Besides the classifier itself, the report will also serve as a demonstration of deployment of the k-NN algorithm on a dataset and will cover all steps in this process, from the loading of the data files, to the evaluation of its performance under different scenarios."
   ]
  },
  {
   "cell_type": "code",
   "execution_count": 103,
   "metadata": {},
   "outputs": [],
   "source": [
    "#Library for data manipulation\n",
    "import numpy as np\n",
    "import pandas as pd \n",
    "#Library for visualisation\n",
    "import matplotlib.pyplot as plt\n",
    "#Library for k-NN machine Learning\n",
    "from sklearn.preprocessing import StandardScaler\n",
    "from sklearn.neighbors import KNeighborsClassifier\n",
    "from sklearn import metrics\n",
    "from sklearn.metrics import mean_squared_error\n",
    "from sklearn.metrics import confusion_matrix,classification_report\n",
    "from sklearn.metrics import accuracy_score"
   ]
  },
  {
   "cell_type": "markdown",
   "metadata": {},
   "source": [
    "# 1. Load data file"
   ]
  },
  {
   "cell_type": "markdown",
   "metadata": {},
   "source": [
    "### 1.1 Load data file"
   ]
  },
  {
   "cell_type": "markdown",
   "metadata": {},
   "source": [
    "The first step is to load the data from `winequality-white.csv` and store it as a *pandas* dataframe. We can do so using the library's `read_csv` function. We skip the header and instead define the column names in the function, and specify that we only want to retain the first 800 rows."
   ]
  },
  {
   "cell_type": "code",
   "execution_count": 104,
   "metadata": {},
   "outputs": [],
   "source": [
    "filename = \"winequality-white 2022.csv\"\n",
    "data = pd.read_csv(filename, names = [\"fixed acidity\", \"volatile acidity\", \"citric acid\", \"residual sugar\", \"chlorides\",\n",
    "                                         \"free sulfur dioxide\", \"total sulfur dioxide\" , \"density\", \"pH\", \"sulphates\", \"alcohol\", \"quality\"],\n",
    "                       sep = ';', header = 0, nrows = 800)"
   ]
  },
  {
   "cell_type": "markdown",
   "metadata": {},
   "source": [
    "We can check whether the data was loaded correctly by displaying the first 5 rows of the dataframe. Indeed, this appears to be the case."
   ]
  },
  {
   "cell_type": "code",
   "execution_count": 105,
   "metadata": {
    "scrolled": true
   },
   "outputs": [
    {
     "data": {
      "text/html": [
       "<div>\n",
       "<style scoped>\n",
       "    .dataframe tbody tr th:only-of-type {\n",
       "        vertical-align: middle;\n",
       "    }\n",
       "\n",
       "    .dataframe tbody tr th {\n",
       "        vertical-align: top;\n",
       "    }\n",
       "\n",
       "    .dataframe thead th {\n",
       "        text-align: right;\n",
       "    }\n",
       "</style>\n",
       "<table border=\"1\" class=\"dataframe\">\n",
       "  <thead>\n",
       "    <tr style=\"text-align: right;\">\n",
       "      <th></th>\n",
       "      <th>fixed acidity</th>\n",
       "      <th>volatile acidity</th>\n",
       "      <th>citric acid</th>\n",
       "      <th>residual sugar</th>\n",
       "      <th>chlorides</th>\n",
       "      <th>free sulfur dioxide</th>\n",
       "      <th>total sulfur dioxide</th>\n",
       "      <th>density</th>\n",
       "      <th>pH</th>\n",
       "      <th>sulphates</th>\n",
       "      <th>alcohol</th>\n",
       "      <th>quality</th>\n",
       "    </tr>\n",
       "  </thead>\n",
       "  <tbody>\n",
       "    <tr>\n",
       "      <th>0</th>\n",
       "      <td>7.4</td>\n",
       "      <td>0.70</td>\n",
       "      <td>0.00</td>\n",
       "      <td>1.9</td>\n",
       "      <td>0.076</td>\n",
       "      <td>11.0</td>\n",
       "      <td>34.0</td>\n",
       "      <td>0.9978</td>\n",
       "      <td>3.51</td>\n",
       "      <td>0.56</td>\n",
       "      <td>9.4</td>\n",
       "      <td>5</td>\n",
       "    </tr>\n",
       "    <tr>\n",
       "      <th>1</th>\n",
       "      <td>7.8</td>\n",
       "      <td>0.88</td>\n",
       "      <td>0.00</td>\n",
       "      <td>2.6</td>\n",
       "      <td>0.098</td>\n",
       "      <td>25.0</td>\n",
       "      <td>67.0</td>\n",
       "      <td>0.9968</td>\n",
       "      <td>3.20</td>\n",
       "      <td>0.68</td>\n",
       "      <td>9.8</td>\n",
       "      <td>5</td>\n",
       "    </tr>\n",
       "    <tr>\n",
       "      <th>2</th>\n",
       "      <td>7.8</td>\n",
       "      <td>0.76</td>\n",
       "      <td>0.04</td>\n",
       "      <td>2.3</td>\n",
       "      <td>0.092</td>\n",
       "      <td>15.0</td>\n",
       "      <td>54.0</td>\n",
       "      <td>0.9970</td>\n",
       "      <td>3.26</td>\n",
       "      <td>0.65</td>\n",
       "      <td>9.8</td>\n",
       "      <td>5</td>\n",
       "    </tr>\n",
       "    <tr>\n",
       "      <th>3</th>\n",
       "      <td>11.2</td>\n",
       "      <td>0.28</td>\n",
       "      <td>0.56</td>\n",
       "      <td>1.9</td>\n",
       "      <td>0.075</td>\n",
       "      <td>17.0</td>\n",
       "      <td>60.0</td>\n",
       "      <td>0.9980</td>\n",
       "      <td>3.16</td>\n",
       "      <td>0.58</td>\n",
       "      <td>9.8</td>\n",
       "      <td>5</td>\n",
       "    </tr>\n",
       "    <tr>\n",
       "      <th>4</th>\n",
       "      <td>7.4</td>\n",
       "      <td>0.70</td>\n",
       "      <td>0.00</td>\n",
       "      <td>1.9</td>\n",
       "      <td>0.076</td>\n",
       "      <td>11.0</td>\n",
       "      <td>34.0</td>\n",
       "      <td>0.9978</td>\n",
       "      <td>3.51</td>\n",
       "      <td>0.56</td>\n",
       "      <td>9.4</td>\n",
       "      <td>5</td>\n",
       "    </tr>\n",
       "  </tbody>\n",
       "</table>\n",
       "</div>"
      ],
      "text/plain": [
       "   fixed acidity  volatile acidity  citric acid  residual sugar  chlorides  \\\n",
       "0            7.4              0.70         0.00             1.9      0.076   \n",
       "1            7.8              0.88         0.00             2.6      0.098   \n",
       "2            7.8              0.76         0.04             2.3      0.092   \n",
       "3           11.2              0.28         0.56             1.9      0.075   \n",
       "4            7.4              0.70         0.00             1.9      0.076   \n",
       "\n",
       "   free sulfur dioxide  total sulfur dioxide  density    pH  sulphates  \\\n",
       "0                 11.0                  34.0   0.9978  3.51       0.56   \n",
       "1                 25.0                  67.0   0.9968  3.20       0.68   \n",
       "2                 15.0                  54.0   0.9970  3.26       0.65   \n",
       "3                 17.0                  60.0   0.9980  3.16       0.58   \n",
       "4                 11.0                  34.0   0.9978  3.51       0.56   \n",
       "\n",
       "   alcohol  quality  \n",
       "0      9.4        5  \n",
       "1      9.8        5  \n",
       "2      9.8        5  \n",
       "3      9.8        5  \n",
       "4      9.4        5  "
      ]
     },
     "execution_count": 105,
     "metadata": {},
     "output_type": "execute_result"
    }
   ],
   "source": [
    "data.head()"
   ]
  },
  {
   "cell_type": "markdown",
   "metadata": {},
   "source": [
    "### 1.2 Missing Data?\n",
    "As seen below, there is no missing data or incomplete values in the dataset. The row named `Non-Null Count` from the following table has the same number of values that are not `NaN` for all columns (attributes). In addition, there are no binary datatypes so far. "
   ]
  },
  {
   "cell_type": "code",
   "execution_count": 106,
   "metadata": {
    "scrolled": true
   },
   "outputs": [
    {
     "name": "stdout",
     "output_type": "stream",
     "text": [
      "<class 'pandas.core.frame.DataFrame'>\n",
      "RangeIndex: 800 entries, 0 to 799\n",
      "Data columns (total 12 columns):\n",
      " #   Column                Non-Null Count  Dtype  \n",
      "---  ------                --------------  -----  \n",
      " 0   fixed acidity         800 non-null    float64\n",
      " 1   volatile acidity      800 non-null    float64\n",
      " 2   citric acid           800 non-null    float64\n",
      " 3   residual sugar        800 non-null    float64\n",
      " 4   chlorides             800 non-null    float64\n",
      " 5   free sulfur dioxide   800 non-null    float64\n",
      " 6   total sulfur dioxide  800 non-null    float64\n",
      " 7   density               800 non-null    float64\n",
      " 8   pH                    800 non-null    float64\n",
      " 9   sulphates             800 non-null    float64\n",
      " 10  alcohol               800 non-null    float64\n",
      " 11  quality               800 non-null    int64  \n",
      "dtypes: float64(11), int64(1)\n",
      "memory usage: 75.1 KB\n"
     ]
    }
   ],
   "source": [
    "data.info()"
   ]
  },
  {
   "cell_type": "markdown",
   "metadata": {},
   "source": [
    "# 2. Construct binary column \"good wine\""
   ]
  },
  {
   "cell_type": "markdown",
   "metadata": {},
   "source": [
    "### 2.1 Output encoding\n",
    "\n",
    "According to the problem statement, any wine with a quality rating of 6 or higher is interpreted as a \"good wine\" (=1), while the rest is classified as \"not good wine\" (=0). This will convert the Machine Learning task into a binary classification problem.  \n",
    "\n",
    "To create the `good wine` column, we use the `where` function from the *NumPy* library."
   ]
  },
  {
   "cell_type": "code",
   "execution_count": 107,
   "metadata": {
    "scrolled": false
   },
   "outputs": [],
   "source": [
    "good_wine = 6\n",
    "data[\"good wine\"] = np.where(data[\"quality\"] >= good_wine, 1, 0)"
   ]
  },
  {
   "cell_type": "code",
   "execution_count": 108,
   "metadata": {
    "scrolled": true
   },
   "outputs": [
    {
     "data": {
      "text/html": [
       "<div>\n",
       "<style scoped>\n",
       "    .dataframe tbody tr th:only-of-type {\n",
       "        vertical-align: middle;\n",
       "    }\n",
       "\n",
       "    .dataframe tbody tr th {\n",
       "        vertical-align: top;\n",
       "    }\n",
       "\n",
       "    .dataframe thead th {\n",
       "        text-align: right;\n",
       "    }\n",
       "</style>\n",
       "<table border=\"1\" class=\"dataframe\">\n",
       "  <thead>\n",
       "    <tr style=\"text-align: right;\">\n",
       "      <th></th>\n",
       "      <th>fixed acidity</th>\n",
       "      <th>volatile acidity</th>\n",
       "      <th>citric acid</th>\n",
       "      <th>residual sugar</th>\n",
       "      <th>chlorides</th>\n",
       "      <th>free sulfur dioxide</th>\n",
       "      <th>total sulfur dioxide</th>\n",
       "      <th>density</th>\n",
       "      <th>pH</th>\n",
       "      <th>sulphates</th>\n",
       "      <th>alcohol</th>\n",
       "      <th>quality</th>\n",
       "      <th>good wine</th>\n",
       "    </tr>\n",
       "  </thead>\n",
       "  <tbody>\n",
       "    <tr>\n",
       "      <th>0</th>\n",
       "      <td>7.4</td>\n",
       "      <td>0.70</td>\n",
       "      <td>0.00</td>\n",
       "      <td>1.9</td>\n",
       "      <td>0.076</td>\n",
       "      <td>11.0</td>\n",
       "      <td>34.0</td>\n",
       "      <td>0.9978</td>\n",
       "      <td>3.51</td>\n",
       "      <td>0.56</td>\n",
       "      <td>9.4</td>\n",
       "      <td>5</td>\n",
       "      <td>0</td>\n",
       "    </tr>\n",
       "    <tr>\n",
       "      <th>1</th>\n",
       "      <td>7.8</td>\n",
       "      <td>0.88</td>\n",
       "      <td>0.00</td>\n",
       "      <td>2.6</td>\n",
       "      <td>0.098</td>\n",
       "      <td>25.0</td>\n",
       "      <td>67.0</td>\n",
       "      <td>0.9968</td>\n",
       "      <td>3.20</td>\n",
       "      <td>0.68</td>\n",
       "      <td>9.8</td>\n",
       "      <td>5</td>\n",
       "      <td>0</td>\n",
       "    </tr>\n",
       "    <tr>\n",
       "      <th>2</th>\n",
       "      <td>7.8</td>\n",
       "      <td>0.76</td>\n",
       "      <td>0.04</td>\n",
       "      <td>2.3</td>\n",
       "      <td>0.092</td>\n",
       "      <td>15.0</td>\n",
       "      <td>54.0</td>\n",
       "      <td>0.9970</td>\n",
       "      <td>3.26</td>\n",
       "      <td>0.65</td>\n",
       "      <td>9.8</td>\n",
       "      <td>5</td>\n",
       "      <td>0</td>\n",
       "    </tr>\n",
       "    <tr>\n",
       "      <th>3</th>\n",
       "      <td>11.2</td>\n",
       "      <td>0.28</td>\n",
       "      <td>0.56</td>\n",
       "      <td>1.9</td>\n",
       "      <td>0.075</td>\n",
       "      <td>17.0</td>\n",
       "      <td>60.0</td>\n",
       "      <td>0.9980</td>\n",
       "      <td>3.16</td>\n",
       "      <td>0.58</td>\n",
       "      <td>9.8</td>\n",
       "      <td>5</td>\n",
       "      <td>0</td>\n",
       "    </tr>\n",
       "    <tr>\n",
       "      <th>4</th>\n",
       "      <td>7.4</td>\n",
       "      <td>0.70</td>\n",
       "      <td>0.00</td>\n",
       "      <td>1.9</td>\n",
       "      <td>0.076</td>\n",
       "      <td>11.0</td>\n",
       "      <td>34.0</td>\n",
       "      <td>0.9978</td>\n",
       "      <td>3.51</td>\n",
       "      <td>0.56</td>\n",
       "      <td>9.4</td>\n",
       "      <td>5</td>\n",
       "      <td>0</td>\n",
       "    </tr>\n",
       "  </tbody>\n",
       "</table>\n",
       "</div>"
      ],
      "text/plain": [
       "   fixed acidity  volatile acidity  citric acid  residual sugar  chlorides  \\\n",
       "0            7.4              0.70         0.00             1.9      0.076   \n",
       "1            7.8              0.88         0.00             2.6      0.098   \n",
       "2            7.8              0.76         0.04             2.3      0.092   \n",
       "3           11.2              0.28         0.56             1.9      0.075   \n",
       "4            7.4              0.70         0.00             1.9      0.076   \n",
       "\n",
       "   free sulfur dioxide  total sulfur dioxide  density    pH  sulphates  \\\n",
       "0                 11.0                  34.0   0.9978  3.51       0.56   \n",
       "1                 25.0                  67.0   0.9968  3.20       0.68   \n",
       "2                 15.0                  54.0   0.9970  3.26       0.65   \n",
       "3                 17.0                  60.0   0.9980  3.16       0.58   \n",
       "4                 11.0                  34.0   0.9978  3.51       0.56   \n",
       "\n",
       "   alcohol  quality  good wine  \n",
       "0      9.4        5          0  \n",
       "1      9.8        5          0  \n",
       "2      9.8        5          0  \n",
       "3      9.8        5          0  \n",
       "4      9.4        5          0  "
      ]
     },
     "execution_count": 108,
     "metadata": {},
     "output_type": "execute_result"
    }
   ],
   "source": [
    "data.head()"
   ]
  },
  {
   "cell_type": "markdown",
   "metadata": {},
   "source": [
    "### 2.2 Data Exploration\n"
   ]
  },
  {
   "cell_type": "markdown",
   "metadata": {},
   "source": [
    "To get a better understanding of the data at hand, we can explore it by investigating the distribution of all variables.\n",
    "\n",
    "Firstly, as shown below, we can see that the outcome variable we have just created (`good wine`) takes the value 1 only in 16.63% of the cases. In other words, only less than 17% of the wines in the dataset are good."
   ]
  },
  {
   "cell_type": "code",
   "execution_count": 109,
   "metadata": {
    "scrolled": true
   },
   "outputs": [
    {
     "data": {
      "image/png": "[encoded data removed]",
      "text/plain": [
       "<Figure size 640x480 with 1 Axes>"
      ]
     },
     "metadata": {},
     "output_type": "display_data"
    }
   ],
   "source": [
    "data.groupby('good wine').size().plot(kind='pie', autopct='%.2f')\n",
    "#the data is unbalanced\n",
    "plt.show()"
   ]
  },
  {
   "cell_type": "markdown",
   "metadata": {},
   "source": [
    "Secondly, we can visualise the distribution of all our independent variables using histograms. The histograms below serve as justification for the normalisation of our data later on: indeed, as we learned in the Statistics and Econometrics class, the skew of predictor distributions may negatively impact the final model performance. Moreover, the normalisation of data helps us scale our input data. As we can see below, also, different scales in the independent variables are currently present. "
   ]
  },
  {
   "cell_type": "code",
   "execution_count": 110,
   "metadata": {
    "scrolled": false
   },
   "outputs": [
    {
     "data": {
      "image/png": "[encoded data removed]",
      "text/plain": [
       "<Figure size 2000x1500 with 12 Axes>"
      ]
     },
     "metadata": {},
     "output_type": "display_data"
    }
   ],
   "source": [
    "data.drop(['quality', 'good wine'], axis = 1).hist(figsize=(20,15))\n",
    "plt.show()"
   ]
  },
  {
   "cell_type": "markdown",
   "metadata": {},
   "source": [
    "# 3. Split data into training, validation and test data sets"
   ]
  },
  {
   "cell_type": "markdown",
   "metadata": {},
   "source": [
    "### 3.1 Split data sets"
   ]
  },
  {
   "cell_type": "code",
   "execution_count": 111,
   "metadata": {},
   "outputs": [],
   "source": [
    "x_train, y_train = data.iloc[:400, :11], data.iloc[:400, 12:]\n",
    "x_val, y_val = data.iloc[400:600, :11], data.iloc[400:600, 12:]\n",
    "x_test, y_test = data.iloc[600:800, :11], data.iloc[600:800, 12:]"
   ]
  },
  {
   "cell_type": "markdown",
   "metadata": {},
   "source": [
    "Following the data exploration process, we split the data set into training, validation and test sets, according to the specifications. Moreover, we create two distinct subsets per data set, `x` and `y`. The `x` data sets include all predictor variables, that is all columns which we use as input variables to the machine learning model. The `y` data set, in turn, includes the target column, that is the \"good wine\" binary variable column.\n",
    "\n",
    "Most importantly, we note, is that in forming the `x` data sets, we must exclude the column \"quality\". This is because our target variable column, \"good wine\", is formed out of a transformation of \"quality\". In effect, we would be using a transformed output column, \"quality\", as part of our input to the machine learning model. Thus, we must not include it in our `x` data sets."
   ]
  },
  {
   "cell_type": "markdown",
   "metadata": {},
   "source": [
    "### 3.2 Inspecting training, validation and test sets "
   ]
  },
  {
   "cell_type": "markdown",
   "metadata": {},
   "source": [
    "#### 3.2.1 \"Good\" vs. \"Not good\" wines proportion in the data sets\n",
    "\n",
    "With the following code snippet, we are able to explore the distribution between \"good\" and \"not good\" wines in our training, validation and test sets."
   ]
  },
  {
   "cell_type": "code",
   "execution_count": 112,
   "metadata": {},
   "outputs": [
    {
     "data": {
      "image/png": "[encoded data removed]",
      "text/plain": [
       "<Figure size 640x480 with 1 Axes>"
      ]
     },
     "metadata": {},
     "output_type": "display_data"
    }
   ],
   "source": [
    "sets = [y_train, y_val, y_test]\n",
    "sets_labels = ['train', 'validation', 'test']\n",
    "\n",
    "g_wine = [i.values.sum() for i in sets]\n",
    "ng_wine =[(i==0).values.sum() for i in sets]\n",
    "      \n",
    "# plot bars in stack manner\n",
    "plt.bar(sets_labels, g_wine, width = 0.5, color='orange')\n",
    "plt.bar(sets_labels, ng_wine, width = 0.5, bottom= g_wine, color='blue')\n",
    "plt.legend(['good wine', 'not good wine'])\n",
    "plt.title(\"Proportion: Good vs Not good wine\")\n",
    "plt.ylabel('Count')\n",
    "plt.show()"
   ]
  },
  {
   "cell_type": "markdown",
   "metadata": {},
   "source": [
    "We can easily observe that the three sets have a different composition in terms of how many \"good\" and \"not good\" wines they include. It is important to keep in mind that this might affect the perfomance on the validation test, as the number of \"good\" wines included in the train set is lower than that in the validation set. "
   ]
  },
  {
   "cell_type": "markdown",
   "metadata": {},
   "source": [
    "# 4. Normalise the data \n"
   ]
  },
  {
   "cell_type": "markdown",
   "metadata": {},
   "source": [
    "It is important to note that k-NN always uses a distance function to quantify the similarity between two instances. In this example, the **euclidean distance** is used, defined as:  \n",
    "  \n",
    "for $p$ predictors, $X_{i}, i = 1,2,...,p$: $dist$(point 1, point 2)$= \\sqrt{\\sum_{i=1}^{p}{(X_{1i}-X_{2i})^2}}$\n",
    "\n",
    "Because predictors can have different measurement units, some squared terms under the square root will take higher values and probably dominate the sum, and by extension the distance value. Some predictors will thus implicitly gain more weight than others, which is not desired. To avoid this, we normalise/scale the data using the Z-scale transformation. The normalisation process constists of two steps:  \n",
    "\n",
    " - Calculate the sample average $\\mu_i$ and sample standard deviation $\\sigma_i$ for each predictor $i$,  using **only** the **training set**  \n",
    " - Use $\\mu_i$ and $\\sigma_i$ to scale the values of each predictor $i$ according to the following formula:  \n",
    " \n",
    " $$ X_{scaled,i} = \\frac{X_{old,i} - \\mu_i}{\\sigma_i} $$ \n",
    " \n",
    "\n",
    "<div class=\"alert alert-block alert-warning\">\n",
    "<b>Note:</b> When the data set is sufficiently large, only the training data set is used to calculate $\\mu_i$ and $\\sigma_i$. Since unseen data points will not be availabe a priori, i.e., when the model gets trained, we want to evaluate different models and model classes such that they are not aware of the features of the test data. In doing so we are able to select the model that seems to generalise better in multiple aspects, including the distributions of features/predictors and the relationships between features and ouptput variable(s).\n",
    "</div>\n",
    "\n"
   ]
  },
  {
   "cell_type": "markdown",
   "metadata": {},
   "source": [
    "### 4.1 Normalising with StandardScalar "
   ]
  },
  {
   "cell_type": "code",
   "execution_count": 113,
   "metadata": {},
   "outputs": [],
   "source": [
    "scaler = StandardScaler() #instantiate a scaler object\n",
    "\n",
    "# calculate μ and σ for every feature (11 in total) using only the training set\n",
    "scaler.fit(x_train) \n",
    "\n",
    "# normalise features from training set\n",
    "x_train = scaler.transform(x_train) \n",
    "\n",
    "# normalise features from validation set\n",
    "x_val = scaler.transform(x_val) \n",
    "\n",
    "#normalise features from test set\n",
    "x_test = scaler.transform(x_test)"
   ]
  },
  {
   "cell_type": "markdown",
   "metadata": {},
   "source": [
    "### 4.2 Normalising by hand\n",
    "\n",
    "Alternatively, we could also normalise the data without importing an additional library, by calculating the mean and standard deviation of the training set, and plugging them into the formula $(X - μ)/σ$ to get the normalised value for each X.\n",
    "\n",
    "**Note: Do not run this part if you have already run 4.1.**"
   ]
  },
  {
   "cell_type": "code",
   "execution_count": 114,
   "metadata": {
    "scrolled": true
   },
   "outputs": [],
   "source": [
    "# use mean and std of training set for normalisation of val and test\n",
    "#train_mean = np.mean(x_train)\n",
    "#train_std = np.std(x_train)"
   ]
  },
  {
   "cell_type": "code",
   "execution_count": 115,
   "metadata": {},
   "outputs": [],
   "source": [
    "# z-score normalise validation and test set, using the mean and standard deviation of training set\n",
    "# as discussed in lecture 4, 20.1.22\n",
    "#x_train = (x_train - train_mean)/train_std\n",
    "#x_val = (x_val - train_mean)/train_std\n",
    "#x_test = (x_test - train_mean)/train_std"
   ]
  },
  {
   "cell_type": "markdown",
   "metadata": {},
   "source": [
    "We can see that the data has been normalised correctly by checking that the mean of all columns is 0 and their standard deviation is 1."
   ]
  },
  {
   "cell_type": "code",
   "execution_count": 116,
   "metadata": {},
   "outputs": [
    {
     "data": {
      "text/html": [
       "<div>\n",
       "<style scoped>\n",
       "    .dataframe tbody tr th:only-of-type {\n",
       "        vertical-align: middle;\n",
       "    }\n",
       "\n",
       "    .dataframe tbody tr th {\n",
       "        vertical-align: top;\n",
       "    }\n",
       "\n",
       "    .dataframe thead th {\n",
       "        text-align: right;\n",
       "    }\n",
       "</style>\n",
       "<table border=\"1\" class=\"dataframe\">\n",
       "  <thead>\n",
       "    <tr style=\"text-align: right;\">\n",
       "      <th></th>\n",
       "      <th>fixed acidity</th>\n",
       "      <th>volatile acidity</th>\n",
       "      <th>citric acid</th>\n",
       "      <th>residual sugar</th>\n",
       "      <th>chlorides</th>\n",
       "      <th>free sulfur dioxide</th>\n",
       "      <th>total sulfur dioxide</th>\n",
       "      <th>density</th>\n",
       "      <th>pH</th>\n",
       "      <th>sulphates</th>\n",
       "      <th>alcohol</th>\n",
       "    </tr>\n",
       "  </thead>\n",
       "  <tbody>\n",
       "    <tr>\n",
       "      <th>count</th>\n",
       "      <td>400.00</td>\n",
       "      <td>400.00</td>\n",
       "      <td>400.00</td>\n",
       "      <td>400.00</td>\n",
       "      <td>400.00</td>\n",
       "      <td>400.00</td>\n",
       "      <td>400.00</td>\n",
       "      <td>400.00</td>\n",
       "      <td>400.00</td>\n",
       "      <td>400.00</td>\n",
       "      <td>400.00</td>\n",
       "    </tr>\n",
       "    <tr>\n",
       "      <th>mean</th>\n",
       "      <td>0.00</td>\n",
       "      <td>0.00</td>\n",
       "      <td>0.00</td>\n",
       "      <td>0.00</td>\n",
       "      <td>0.00</td>\n",
       "      <td>-0.00</td>\n",
       "      <td>-0.00</td>\n",
       "      <td>-0.00</td>\n",
       "      <td>-0.00</td>\n",
       "      <td>0.00</td>\n",
       "      <td>-0.00</td>\n",
       "    </tr>\n",
       "    <tr>\n",
       "      <th>std</th>\n",
       "      <td>1.00</td>\n",
       "      <td>1.00</td>\n",
       "      <td>1.00</td>\n",
       "      <td>1.00</td>\n",
       "      <td>1.00</td>\n",
       "      <td>1.00</td>\n",
       "      <td>1.00</td>\n",
       "      <td>1.00</td>\n",
       "      <td>1.00</td>\n",
       "      <td>1.00</td>\n",
       "      <td>1.00</td>\n",
       "    </tr>\n",
       "    <tr>\n",
       "      <th>min</th>\n",
       "      <td>-2.12</td>\n",
       "      <td>-2.07</td>\n",
       "      <td>-1.30</td>\n",
       "      <td>-1.06</td>\n",
       "      <td>-0.89</td>\n",
       "      <td>-1.29</td>\n",
       "      <td>-1.33</td>\n",
       "      <td>-3.74</td>\n",
       "      <td>-3.65</td>\n",
       "      <td>-1.65</td>\n",
       "      <td>-1.40</td>\n",
       "    </tr>\n",
       "    <tr>\n",
       "      <th>25%</th>\n",
       "      <td>-0.63</td>\n",
       "      <td>-0.73</td>\n",
       "      <td>-0.92</td>\n",
       "      <td>-0.51</td>\n",
       "      <td>-0.36</td>\n",
       "      <td>-0.75</td>\n",
       "      <td>-0.78</td>\n",
       "      <td>-0.54</td>\n",
       "      <td>-0.69</td>\n",
       "      <td>-0.63</td>\n",
       "      <td>-0.65</td>\n",
       "    </tr>\n",
       "    <tr>\n",
       "      <th>50%</th>\n",
       "      <td>-0.29</td>\n",
       "      <td>-0.01</td>\n",
       "      <td>-0.16</td>\n",
       "      <td>-0.27</td>\n",
       "      <td>-0.22</td>\n",
       "      <td>-0.22</td>\n",
       "      <td>-0.26</td>\n",
       "      <td>-0.17</td>\n",
       "      <td>0.02</td>\n",
       "      <td>-0.27</td>\n",
       "      <td>-0.32</td>\n",
       "    </tr>\n",
       "    <tr>\n",
       "      <th>75%</th>\n",
       "      <td>0.32</td>\n",
       "      <td>0.57</td>\n",
       "      <td>0.79</td>\n",
       "      <td>0.04</td>\n",
       "      <td>-0.03</td>\n",
       "      <td>0.42</td>\n",
       "      <td>0.50</td>\n",
       "      <td>0.50</td>\n",
       "      <td>0.54</td>\n",
       "      <td>0.36</td>\n",
       "      <td>0.43</td>\n",
       "    </tr>\n",
       "    <tr>\n",
       "      <th>max</th>\n",
       "      <td>3.64</td>\n",
       "      <td>4.51</td>\n",
       "      <td>3.46</td>\n",
       "      <td>6.61</td>\n",
       "      <td>8.03</td>\n",
       "      <td>5.64</td>\n",
       "      <td>3.23</td>\n",
       "      <td>3.02</td>\n",
       "      <td>3.83</td>\n",
       "      <td>5.76</td>\n",
       "      <td>4.30</td>\n",
       "    </tr>\n",
       "  </tbody>\n",
       "</table>\n",
       "</div>"
      ],
      "text/plain": [
       "       fixed acidity  volatile acidity  citric acid  residual sugar  \\\n",
       "count         400.00            400.00       400.00          400.00   \n",
       "mean            0.00              0.00         0.00            0.00   \n",
       "std             1.00              1.00         1.00            1.00   \n",
       "min            -2.12             -2.07        -1.30           -1.06   \n",
       "25%            -0.63             -0.73        -0.92           -0.51   \n",
       "50%            -0.29             -0.01        -0.16           -0.27   \n",
       "75%             0.32              0.57         0.79            0.04   \n",
       "max             3.64              4.51         3.46            6.61   \n",
       "\n",
       "       chlorides  free sulfur dioxide  total sulfur dioxide  density      pH  \\\n",
       "count     400.00               400.00                400.00   400.00  400.00   \n",
       "mean        0.00                -0.00                 -0.00    -0.00   -0.00   \n",
       "std         1.00                 1.00                  1.00     1.00    1.00   \n",
       "min        -0.89                -1.29                 -1.33    -3.74   -3.65   \n",
       "25%        -0.36                -0.75                 -0.78    -0.54   -0.69   \n",
       "50%        -0.22                -0.22                 -0.26    -0.17    0.02   \n",
       "75%        -0.03                 0.42                  0.50     0.50    0.54   \n",
       "max         8.03                 5.64                  3.23     3.02    3.83   \n",
       "\n",
       "       sulphates  alcohol  \n",
       "count     400.00   400.00  \n",
       "mean        0.00    -0.00  \n",
       "std         1.00     1.00  \n",
       "min        -1.65    -1.40  \n",
       "25%        -0.63    -0.65  \n",
       "50%        -0.27    -0.32  \n",
       "75%         0.36     0.43  \n",
       "max         5.76     4.30  "
      ]
     },
     "execution_count": 116,
     "metadata": {},
     "output_type": "execute_result"
    }
   ],
   "source": [
    "round(pd.DataFrame(x_train, columns = names).describe(), 2)"
   ]
  },
  {
   "cell_type": "markdown",
   "metadata": {},
   "source": [
    "# 5. Load and train the k-nearest classifiers"
   ]
  },
  {
   "cell_type": "markdown",
   "metadata": {},
   "source": [
    "Having completed the normalisation process, we evaluate the k-NN model based on different inputs for the number of neighbours, k."
   ]
  },
  {
   "cell_type": "markdown",
   "metadata": {},
   "source": [
    "### 5.1 Fit each model separately on the training set and evaluate on the validation set"
   ]
  },
  {
   "cell_type": "markdown",
   "metadata": {},
   "source": [
    "We initialise the k-NN classifier as an object and store it with `knn_model`. Afterwards, we train the model based on the training set: `pred_val` stores the predictions for the target column of the validation data set. Finally, the lists `accuracy` and `class_error` store the results, respectively. Using a loop, therefore, we are able to evaluate the performance for different $k = 1,2,...,100$."
   ]
  },
  {
   "cell_type": "code",
   "execution_count": 117,
   "metadata": {},
   "outputs": [],
   "source": [
    "accuracy = []\n",
    "class_error = []\n",
    "for k in range(1, 101):\n",
    "    knn_model = KNeighborsClassifier(n_neighbors = k)\n",
    "    knn_model.fit(x_train, y_train.values.ravel()) # y convert to array shape(n,)\n",
    "    pred_val = knn_model.predict(x_val)\n",
    "    accuracy.append(metrics.accuracy_score(y_val, pred_val))\n",
    "    class_error.append(1 - accuracy_score(y_val, pred_val))"
   ]
  },
  {
   "cell_type": "markdown",
   "metadata": {},
   "source": [
    "# 6. Evaluate each classifier using the validation data set "
   ]
  },
  {
   "cell_type": "markdown",
   "metadata": {},
   "source": [
    "### 6.1 Evaluate each classifier "
   ]
  },
  {
   "cell_type": "markdown",
   "metadata": {},
   "source": [
    "The plot below shows the validation error of the classifier depending on the number *k* of neighbours included in the model. The figure displays the typical U-shape, which we anticiapte. For low *k*'s, we expect the model to overfit, as the model only considers close neighbours. Conversely, for a value of *k* beyond the optimum value, we would expect underfitting to occur."
   ]
  },
  {
   "cell_type": "code",
   "execution_count": 118,
   "metadata": {
    "scrolled": true
   },
   "outputs": [
    {
     "data": {
      "image/png": "[encoded data removed]",
      "text/plain": [
       "<Figure size 640x480 with 1 Axes>"
      ]
     },
     "metadata": {},
     "output_type": "display_data"
    }
   ],
   "source": [
    "plt.plot(class_error)\n",
    "plt.xlabel(\"k neighbours\")\n",
    "plt.ylabel(\"Error\")\n",
    "plt.show()"
   ]
  },
  {
   "cell_type": "markdown",
   "metadata": {},
   "source": [
    "### 6.2 Choose k based on the model that performs best on the validation set"
   ]
  },
  {
   "cell_type": "markdown",
   "metadata": {},
   "source": [
    "In the end, we will want to use the classifier with the *k* that gives us the lowest generalisation error."
   ]
  },
  {
   "cell_type": "code",
   "execution_count": 119,
   "metadata": {},
   "outputs": [
    {
     "name": "stdout",
     "output_type": "stream",
     "text": [
      "Number of neighbours with the lowest error (0.12) on validation set: k = 15\n"
     ]
    }
   ],
   "source": [
    "optimal_k = accuracy.index(max(accuracy))+1\n",
    "print(\"Number of neighbours with the lowest error (\" + str(round(class_error[optimal_k],3)) + \") on validation set: k =\", optimal_k)"
   ]
  },
  {
   "cell_type": "markdown",
   "metadata": {},
   "source": [
    "# 7. Predict the generalisation error using the test data"
   ]
  },
  {
   "cell_type": "markdown",
   "metadata": {},
   "source": [
    "While we know that the best-performing parameter is $k = 15$, we still cannot use the previously obtained error (12%) as a measure of the model's accuracy. From the theory, evaluating the generalisation error from deploying the model on the validation data will suffer from selection bias, which will underestimate the true error.\n",
    "\n",
    "Hence, to obtain a more reliable measure of the classifier's generalisation error, we use the model on new data (test set), and estimate its error."
   ]
  },
  {
   "cell_type": "markdown",
   "metadata": {},
   "source": [
    "### 7.1 Predict generalisation error using test data on model that is trained on training data set "
   ]
  },
  {
   "cell_type": "code",
   "execution_count": 120,
   "metadata": {},
   "outputs": [],
   "source": [
    "knn_general = KNeighborsClassifier(n_neighbors = optimal_k)\n",
    "knn_general.fit(x_train, y_train.values.ravel())\n",
    "pred_test = knn_general.predict(x_test) # predicting on test data set, using k = 15"
   ]
  },
  {
   "cell_type": "code",
   "execution_count": 121,
   "metadata": {},
   "outputs": [
    {
     "name": "stdout",
     "output_type": "stream",
     "text": [
      "[[187   0]\n",
      " [  7   6]]\n"
     ]
    }
   ],
   "source": [
    "print(confusion_matrix(y_test, pred_test))"
   ]
  },
  {
   "cell_type": "markdown",
   "metadata": {},
   "source": [
    "**How to interpret the confusion matrix?** \n",
    "\n",
    "The confusion matrix from the classifiers predictions on the test set can be read as:   \n",
    " - 187  wines were correctly identified as \"not good wines\" ($tn$:true negatives = 187)\n",
    " - 7 good wines were missclassified as not good wines ($fn$: false negatives = 7)  \n",
    " - not a single \"not good\" wine was missclassified as \"good\" ($fp$: false positives = 0)\n",
    " - 6 \"good\" wines were correctly identified as such ($tp$: true positives = 6)"
   ]
  },
  {
   "cell_type": "code",
   "execution_count": 122,
   "metadata": {},
   "outputs": [
    {
     "name": "stdout",
     "output_type": "stream",
     "text": [
      "The generalisation error of the model is 3.5%.\n"
     ]
    }
   ],
   "source": [
    "gen_error = 1 - accuracy_score(y_test, pred_test)\n",
    "print(\"The generalisation error of the model is \" + str(round(100 * gen_error, 3)) + \"%.\")"
   ]
  },
  {
   "cell_type": "markdown",
   "metadata": {},
   "source": [
    "**How to interpret the generalisation error**\n",
    "\n",
    "The generalisation error shows the percentage of points that were misslabeled (in this case it was only 7) on the test set. This is the missclassification rate that one shoud expect on average when testing this classifier on new (unseen) test sets. It is calculated as follows:     \n",
    "\n",
    "(missclassification) error $= \\frac{fn + fp}{tp+tn+fp+fn}$  \n",
    " \n",
    "\n",
    "\n",
    "*In this example:*\n",
    "error = $\\frac{7}{187+6+7} = \\frac{7}{200}= 0.035 = 3.5$%"
   ]
  },
  {
   "cell_type": "code",
   "execution_count": 123,
   "metadata": {
    "scrolled": true
   },
   "outputs": [
    {
     "name": "stdout",
     "output_type": "stream",
     "text": [
      "              precision    recall  f1-score   support\n",
      "\n",
      "           0       0.96      1.00      0.98       187\n",
      "           1       1.00      0.46      0.63        13\n",
      "\n",
      "    accuracy                           0.96       200\n",
      "   macro avg       0.98      0.73      0.81       200\n",
      "weighted avg       0.97      0.96      0.96       200\n",
      "\n"
     ]
    }
   ],
   "source": [
    "print(classification_report(y_test, pred_test))"
   ]
  },
  {
   "cell_type": "markdown",
   "metadata": {},
   "source": [
    "**How to interpret the classification matrix?**  \n",
    "\n",
    "*Precision* and *Recall* are metrics which are calculated for each output value seperately. In this case there are only two classes, 0 and 1 and so there are 4 scores in total.\n",
    "\n",
    "- *Precision*: The ability to not classify other classes as the target class (class of interest). It can be calculated as $\\frac{tp}{tp+fp}$ \n",
    "    - Precision(class=0 or \"not good\" wine) = 0.96 (we missclassified 7 \"not good\" wines as good)\n",
    "    - Precision(class=1 or \"good\" wine) = 1  (we did not missclassify any \"good\" wine as bad)\n",
    "      \n",
    "      \n",
    "- *Recall*: The ability to identify all cases of the target class (class of interest). It can be calculated as $\\frac{tp}{tp+fn}$   \n",
    "     - Recall(class=0 or \"not good\" wine) = 1 ( we identified all \"not good\" wines correctly)   \n",
    "     - Recall(class=1 or \"good\" wine) = 0.46 (we did not manage to classify 7 \"good\" wines as such)  "
   ]
  },
  {
   "cell_type": "markdown",
   "metadata": {},
   "source": [
    "Surprisingly, the generalisation error decreases when the model is tested on the test set compared to when it is deployed on the validation set. This observation is contrary to the theory discussed above. The reason behind it is that the classifier is relatively conservative: it has a high precision and low recall. In other words, it tends to classify good wines as 'not good' much more often than it classifies wines that are not good as 'good' (54% of times vs. 0% of times on the test set).\n",
    "\n",
    "This tendency matches the structure of the test set better than the structure of the validation set. The test set only contains 6.5% good wines, while the validation set contains 32% good wines. The fact that the two datasets are structurally so different, and the fact that the classifier's precision and recall matches the test sample's structure is what makes this unexpected result occur."
   ]
  },
  {
   "cell_type": "markdown",
   "metadata": {},
   "source": [
    "### 7.2 Predict generalisation error using test data on model that is trained on training data set + validation data set"
   ]
  },
  {
   "cell_type": "markdown",
   "metadata": {},
   "source": [
    "Given the small size of our data set, it is important to combine data and training set `x_combined`. This allows the training of the model to use a larger sample as its input. We anticipate that a lower generalisation error can ultimately achieved."
   ]
  },
  {
   "cell_type": "code",
   "execution_count": 124,
   "metadata": {},
   "outputs": [],
   "source": [
    "# column names as list\n",
    "names = [\"fixed acidity\",\"volatile acidity\",\"citric acid\",\"residual sugar\",\"chlorides\",\n",
    "                                         \"free sulfur dioxide\",\"total sulfur dioxide\" ,\"density\",\"pH\",\"sulphates\",\"alcohol\"]"
   ]
  },
  {
   "cell_type": "markdown",
   "metadata": {},
   "source": [
    "#### 7.2.1 Merging training and validation data sets "
   ]
  },
  {
   "cell_type": "code",
   "execution_count": 125,
   "metadata": {
    "scrolled": true
   },
   "outputs": [],
   "source": [
    "x_train = pd.DataFrame(x_train, columns = names) # reshaping into data frames for appending\n",
    "x_val = pd.DataFrame(x_val, columns = names)"
   ]
  },
  {
   "cell_type": "code",
   "execution_count": 126,
   "metadata": {
    "scrolled": false
   },
   "outputs": [
    {
     "data": {
      "text/html": [
       "<div>\n",
       "<style scoped>\n",
       "    .dataframe tbody tr th:only-of-type {\n",
       "        vertical-align: middle;\n",
       "    }\n",
       "\n",
       "    .dataframe tbody tr th {\n",
       "        vertical-align: top;\n",
       "    }\n",
       "\n",
       "    .dataframe thead th {\n",
       "        text-align: right;\n",
       "    }\n",
       "</style>\n",
       "<table border=\"1\" class=\"dataframe\">\n",
       "  <thead>\n",
       "    <tr style=\"text-align: right;\">\n",
       "      <th></th>\n",
       "      <th>fixed acidity</th>\n",
       "      <th>volatile acidity</th>\n",
       "      <th>citric acid</th>\n",
       "      <th>residual sugar</th>\n",
       "      <th>chlorides</th>\n",
       "      <th>free sulfur dioxide</th>\n",
       "      <th>total sulfur dioxide</th>\n",
       "      <th>density</th>\n",
       "      <th>pH</th>\n",
       "      <th>sulphates</th>\n",
       "      <th>alcohol</th>\n",
       "    </tr>\n",
       "  </thead>\n",
       "  <tbody>\n",
       "    <tr>\n",
       "      <th>0</th>\n",
       "      <td>-0.570821</td>\n",
       "      <td>0.903848</td>\n",
       "      <td>-1.302591</td>\n",
       "      <td>-0.509848</td>\n",
       "      <td>-0.315173</td>\n",
       "      <td>-0.434997</td>\n",
       "      <td>-0.575182</td>\n",
       "      <td>0.318487</td>\n",
       "      <td>1.311878</td>\n",
       "      <td>-0.628045</td>\n",
       "      <td>-0.646278</td>\n",
       "    </tr>\n",
       "    <tr>\n",
       "      <th>1</th>\n",
       "      <td>-0.349197</td>\n",
       "      <td>1.933141</td>\n",
       "      <td>-1.302591</td>\n",
       "      <td>0.038165</td>\n",
       "      <td>0.027872</td>\n",
       "      <td>1.057183</td>\n",
       "      <td>0.382246</td>\n",
       "      <td>-0.295760</td>\n",
       "      <td>-0.687542</td>\n",
       "      <td>-0.095803</td>\n",
       "      <td>-0.215785</td>\n",
       "    </tr>\n",
       "    <tr>\n",
       "      <th>2</th>\n",
       "      <td>-0.349197</td>\n",
       "      <td>1.246946</td>\n",
       "      <td>-1.112240</td>\n",
       "      <td>-0.196698</td>\n",
       "      <td>-0.065685</td>\n",
       "      <td>-0.008660</td>\n",
       "      <td>0.005077</td>\n",
       "      <td>-0.172910</td>\n",
       "      <td>-0.300558</td>\n",
       "      <td>-0.228864</td>\n",
       "      <td>-0.215785</td>\n",
       "    </tr>\n",
       "    <tr>\n",
       "      <th>3</th>\n",
       "      <td>1.534609</td>\n",
       "      <td>-1.497836</td>\n",
       "      <td>1.362313</td>\n",
       "      <td>-0.509848</td>\n",
       "      <td>-0.330766</td>\n",
       "      <td>0.204509</td>\n",
       "      <td>0.179155</td>\n",
       "      <td>0.441336</td>\n",
       "      <td>-0.945532</td>\n",
       "      <td>-0.539338</td>\n",
       "      <td>-0.215785</td>\n",
       "    </tr>\n",
       "    <tr>\n",
       "      <th>4</th>\n",
       "      <td>-0.570821</td>\n",
       "      <td>0.903848</td>\n",
       "      <td>-1.302591</td>\n",
       "      <td>-0.509848</td>\n",
       "      <td>-0.315173</td>\n",
       "      <td>-0.434997</td>\n",
       "      <td>-0.575182</td>\n",
       "      <td>0.318487</td>\n",
       "      <td>1.311878</td>\n",
       "      <td>-0.628045</td>\n",
       "      <td>-0.646278</td>\n",
       "    </tr>\n",
       "  </tbody>\n",
       "</table>\n",
       "</div>"
      ],
      "text/plain": [
       "   fixed acidity  volatile acidity  citric acid  residual sugar  chlorides  \\\n",
       "0      -0.570821          0.903848    -1.302591       -0.509848  -0.315173   \n",
       "1      -0.349197          1.933141    -1.302591        0.038165   0.027872   \n",
       "2      -0.349197          1.246946    -1.112240       -0.196698  -0.065685   \n",
       "3       1.534609         -1.497836     1.362313       -0.509848  -0.330766   \n",
       "4      -0.570821          0.903848    -1.302591       -0.509848  -0.315173   \n",
       "\n",
       "   free sulfur dioxide  total sulfur dioxide   density        pH  sulphates  \\\n",
       "0            -0.434997             -0.575182  0.318487  1.311878  -0.628045   \n",
       "1             1.057183              0.382246 -0.295760 -0.687542  -0.095803   \n",
       "2            -0.008660              0.005077 -0.172910 -0.300558  -0.228864   \n",
       "3             0.204509              0.179155  0.441336 -0.945532  -0.539338   \n",
       "4            -0.434997             -0.575182  0.318487  1.311878  -0.628045   \n",
       "\n",
       "    alcohol  \n",
       "0 -0.646278  \n",
       "1 -0.215785  \n",
       "2 -0.215785  \n",
       "3 -0.215785  \n",
       "4 -0.646278  "
      ]
     },
     "execution_count": 126,
     "metadata": {},
     "output_type": "execute_result"
    }
   ],
   "source": [
    "x_combined = x_train.append(x_val) # combined training and validation data set\n",
    "x_combined.head()"
   ]
  },
  {
   "cell_type": "code",
   "execution_count": 127,
   "metadata": {
    "scrolled": true
   },
   "outputs": [],
   "source": [
    "y_combined = y_train.append(y_val) # combined target variable data set"
   ]
  },
  {
   "cell_type": "markdown",
   "metadata": {},
   "source": [
    "As a result of training the model on one combined training and validation data set, we use the optimal $k = 15$ on this revised model in the next section, in order to obtain the generalisation error."
   ]
  },
  {
   "cell_type": "markdown",
   "metadata": {},
   "source": [
    "#### 7.2.2 Generating the new generalisation error of the combined data set"
   ]
  },
  {
   "cell_type": "code",
   "execution_count": 128,
   "metadata": {
    "scrolled": true
   },
   "outputs": [],
   "source": [
    "knn_general_combined = KNeighborsClassifier(n_neighbors = optimal_k)\n",
    "knn_general_combined.fit(x_combined.values, y_combined.values.ravel())\n",
    "pred_test_combined = knn_general_combined.predict(x_test)"
   ]
  },
  {
   "cell_type": "code",
   "execution_count": 129,
   "metadata": {},
   "outputs": [
    {
     "data": {
      "text/plain": [
       "array([[187,   0],\n",
       "       [  4,   9]])"
      ]
     },
     "execution_count": 129,
     "metadata": {},
     "output_type": "execute_result"
    }
   ],
   "source": [
    "confusion_matrix(y_test, pred_test_combined)"
   ]
  },
  {
   "cell_type": "code",
   "execution_count": 130,
   "metadata": {},
   "outputs": [
    {
     "name": "stdout",
     "output_type": "stream",
     "text": [
      "The generalisation error is 2.0 %\n"
     ]
    }
   ],
   "source": [
    "gen_error = 1 - accuracy_score(y_test, pred_test_combined)\n",
    "print(\"The generalisation error is\", round(100*gen_error,2),\"%\")"
   ]
  },
  {
   "cell_type": "markdown",
   "metadata": {},
   "source": [
    "Finally, we see that the generalisation error decreased from 3.5% to 2%. The newly trained model (trained on both validation and training set) with the chosen optimal k value reduces the risk of overfitting, which leads to a lower generalisation error or higher accuracy, respectively. "
   ]
  },
  {
   "cell_type": "markdown",
   "metadata": {},
   "source": [
    "# 8. Try with new splitting"
   ]
  },
  {
   "cell_type": "markdown",
   "metadata": {},
   "source": [
    "In this section, we will split the data into a training data set (first 200 samples), a\n",
    "validation data set (next 200 samples), and a test data set (last 400 samples). Compared to the previous model, the amount of data in the training set is halved. With such a small training data set where the data is unbalanced, it increases the risk of overfitting. Therefore, we expect to see a worse performance from the chosen model."
   ]
  },
  {
   "cell_type": "markdown",
   "metadata": {},
   "source": [
    "### 8.1 Split data set"
   ]
  },
  {
   "cell_type": "code",
   "execution_count": 131,
   "metadata": {},
   "outputs": [],
   "source": [
    "x_train_new, y_train_new = data.iloc[:200, :11], data.iloc[:200, 12:]\n",
    "x_val_new, y_val_new = data.iloc[200:400, :11], data.iloc[200:400, 12:]\n",
    "x_test_new, y_test_new = data.iloc[400:800, :11], data.iloc[400:800, 12:]"
   ]
  },
  {
   "cell_type": "markdown",
   "metadata": {},
   "source": [
    "### 8.2 Normalize the data according to the Z-score transform"
   ]
  },
  {
   "cell_type": "code",
   "execution_count": 132,
   "metadata": {},
   "outputs": [],
   "source": [
    "scaler = StandardScaler() #instantiate a scaler object\n",
    "scaler.fit(x_train_new) \n",
    "x_train_new = scaler.transform(x_train_new) \n",
    "x_val_new = scaler.transform(x_val_new) \n",
    "x_test_new = scaler.transform(x_test_new)"
   ]
  },
  {
   "cell_type": "markdown",
   "metadata": {},
   "source": [
    "### 8.3 Loads and trains the k-Nearest Neighbours classifiers for k = 1, 2, . . . , 100"
   ]
  },
  {
   "cell_type": "code",
   "execution_count": 133,
   "metadata": {
    "scrolled": true
   },
   "outputs": [],
   "source": [
    "acc_score = []\n",
    "class_error_new = []\n",
    "for k in range (1,101):\n",
    "    knn = KNeighborsClassifier(n_neighbors = k)\n",
    "    knn.fit(x_train_new, y_train_new.values.ravel())\n",
    "    pred_val = knn.predict(x_val_new)\n",
    "    acc_score.append(accuracy_score(y_val_new, pred_val))  \n",
    "    class_error_new.append(1 - accuracy_score(y_val_new, pred_val))"
   ]
  },
  {
   "cell_type": "markdown",
   "metadata": {},
   "source": [
    "### 8.4 Evaluates each classifier using the validation data set and selects the best classifier"
   ]
  },
  {
   "cell_type": "code",
   "execution_count": 134,
   "metadata": {
    "scrolled": true
   },
   "outputs": [
    {
     "data": {
      "image/png": "[encoded data removed]",
      "text/plain": [
       "<Figure size 640x480 with 1 Axes>"
      ]
     },
     "metadata": {},
     "output_type": "display_data"
    }
   ],
   "source": [
    "plt.plot(class_error_new)\n",
    "plt.xlabel(\"k neighbors\")\n",
    "plt.ylabel(\"Error\")\n",
    "plt.show()"
   ]
  },
  {
   "cell_type": "code",
   "execution_count": 135,
   "metadata": {
    "scrolled": false
   },
   "outputs": [
    {
     "name": "stdout",
     "output_type": "stream",
     "text": [
      "Number of neighbours with the lowest error (0.15) on validation set: k =  1\n"
     ]
    }
   ],
   "source": [
    "optimal_k_new = acc_score.index(max(acc_score))+1\n",
    "print(\"Number of neighbours with the lowest error (\" + str(round(class_error_new[optimal_k_new - 1], 2)) + \") on validation set: k = \", optimal_k_new)"
   ]
  },
  {
   "cell_type": "markdown",
   "metadata": {},
   "source": [
    "\n",
    "### 8.5 Predict the generalisation error using the test data set"
   ]
  },
  {
   "cell_type": "markdown",
   "metadata": {},
   "source": [
    "#### 8.5.1 Generalisation error without retraining"
   ]
  },
  {
   "cell_type": "code",
   "execution_count": 136,
   "metadata": {},
   "outputs": [],
   "source": [
    "knn_general = KNeighborsClassifier(n_neighbors = optimal_k_new)\n",
    "knn_general.fit(x_train_new, y_train_new.values.ravel()) # y convert to array shape(n,)\n",
    "pred_test_new = knn_general.predict(x_test_new)"
   ]
  },
  {
   "cell_type": "code",
   "execution_count": 137,
   "metadata": {},
   "outputs": [
    {
     "name": "stdout",
     "output_type": "stream",
     "text": [
      "The generalisation error of the model is 15.0%.\n"
     ]
    }
   ],
   "source": [
    "generalisation_error = 1 - accuracy_score(pred_test_new, y_test_new)\n",
    "print(\"The generalisation error of the model is \" + str(round(100 * generalisation_error, 3)) + \"%.\")"
   ]
  },
  {
   "cell_type": "code",
   "execution_count": 138,
   "metadata": {},
   "outputs": [
    {
     "name": "stdout",
     "output_type": "stream",
     "text": [
      "[[298  25]\n",
      " [ 35  42]]\n"
     ]
    }
   ],
   "source": [
    "print(confusion_matrix(y_test_new, pred_test_new))"
   ]
  },
  {
   "cell_type": "code",
   "execution_count": 139,
   "metadata": {},
   "outputs": [
    {
     "name": "stdout",
     "output_type": "stream",
     "text": [
      "              precision    recall  f1-score   support\n",
      "\n",
      "           0       0.89      0.92      0.91       323\n",
      "           1       0.63      0.55      0.58        77\n",
      "\n",
      "    accuracy                           0.85       400\n",
      "   macro avg       0.76      0.73      0.75       400\n",
      "weighted avg       0.84      0.85      0.85       400\n",
      "\n"
     ]
    }
   ],
   "source": [
    "print(classification_report(y_test_new, pred_test_new))"
   ]
  },
  {
   "cell_type": "markdown",
   "metadata": {},
   "source": [
    "#### 8.5.2 Generalisation error with retraining (training + validation set)\n",
    "\n",
    "Next, we want to assess the model's performance on both the training set and the validation set put together as training data, for the same reasons as outlined in section 7.2. To do so, we first concatenate the training and validation data sets. Next, we re-train the k-NN model on the combined set using the optimal k = 1. Finally, we calculate the generalisation error on the test set using the new model."
   ]
  },
  {
   "cell_type": "code",
   "execution_count": 140,
   "metadata": {},
   "outputs": [],
   "source": [
    "x_combined_new = np.concatenate((x_train_new, x_val_new), axis=0) # Features: combine train and validation sets\n",
    "y_combined_new = y_train_new.append(y_val_new) # Output variables: combine train and validation sets"
   ]
  },
  {
   "cell_type": "code",
   "execution_count": 141,
   "metadata": {
    "scrolled": true
   },
   "outputs": [
    {
     "name": "stdout",
     "output_type": "stream",
     "text": [
      "The generalisation error of the model is 7.5%.\n"
     ]
    }
   ],
   "source": [
    "knn_general_new_combined = KNeighborsClassifier(n_neighbors = optimal_k_new)\n",
    "knn_general_new_combined.fit(x_combined_new, y_combined_new.values.ravel())\n",
    "pred_test_combined_new = knn_general_new_combined.predict(x_test_new)\n",
    "\n",
    "# generalisation error \n",
    "generalisation_error_new_combined = 1 - accuracy_score(pred_test_combined_new, y_test_new)\n",
    "print(\"The generalisation error of the model is \" + str(round(100 * generalisation_error_new_combined, 3)) + \"%.\")"
   ]
  },
  {
   "cell_type": "code",
   "execution_count": 142,
   "metadata": {},
   "outputs": [
    {
     "name": "stdout",
     "output_type": "stream",
     "text": [
      "[[307  16]\n",
      " [ 14  63]]\n"
     ]
    }
   ],
   "source": [
    "print(confusion_matrix(y_test_new, pred_test_combined_new))"
   ]
  },
  {
   "cell_type": "code",
   "execution_count": 143,
   "metadata": {
    "scrolled": true
   },
   "outputs": [
    {
     "name": "stdout",
     "output_type": "stream",
     "text": [
      "              precision    recall  f1-score   support\n",
      "\n",
      "           0       0.96      0.95      0.95       323\n",
      "           1       0.80      0.82      0.81        77\n",
      "\n",
      "    accuracy                           0.93       400\n",
      "   macro avg       0.88      0.88      0.88       400\n",
      "weighted avg       0.93      0.93      0.93       400\n",
      "\n"
     ]
    }
   ],
   "source": [
    "print(classification_report(y_test_new, pred_test_combined_new))"
   ]
  },
  {
   "cell_type": "markdown",
   "metadata": {},
   "source": [
    "### 8.6 Findings"
   ]
  },
  {
   "cell_type": "markdown",
   "metadata": {},
   "source": [
    "#### 8.6.1 Higher generalization error rate\n",
    "As a result, the overall performance with the new split is - as anticipated - worse. The generalization error is higher,  which indicates worse ability to predict outcome values for previously unseen data.  This may be due to overfitting on a smaller training data set. \n",
    "\n",
    " \n",
    "\n",
    "In the case of predicting wine quality with KNN, having a larger training sample has a larger positive impact than a large test set. Even though a larger test set can better estimate the model's performance, a larger training set can avoid overfitting and lead to better predictions. Other reasons could be curse of dimensionality. For $N$ samples with dimensionality $d$, the number of dimensions increases linearly, the number of training samples must increase exponentially to counter the “curse”. In this case, the training data set has only 200 inputs but 11 dimensions. This may pose a risk of suffering from the curse of dimension and result in a lower generalization error."
   ]
  },
  {
   "cell_type": "markdown",
   "metadata": {},
   "source": [
    "#### 8.6.2 High Variance\n",
    "The chosen k at the optimum is 1. A small k leads to high variance due to overfitting. High variance can cause the model to model the random noise in the training data, rather than the intended outputs. In other words, model with a small k pays a lot of attention to training data(the neighbors in the training data) and does not generalize on the data which it hasn’t seen before. This is especially true when $k=1$. When $K$ is 1, the prediction is solely based on the nearest neighbor, which can be noise or outliers. Only basing the prediction on the nearest neighbor in the training set led to high variance, which is eventually substantiated by the higher error when testing on \"unseen\" data."
   ]
  },
  {
   "cell_type": "markdown",
   "metadata": {},
   "source": [
    "#### 8.6.3 Overfitting\n",
    "\n",
    "The error plot illustrates that the model did not do a good job minimising the reducible errors but rather overfitted. The optimum lands where k is 1, which results in a model that reacts to noise/outliers."
   ]
  },
  {
   "cell_type": "code",
   "execution_count": 144,
   "metadata": {
    "scrolled": true
   },
   "outputs": [
    {
     "data": {
      "image/png": "[encoded data removed]",
      "text/plain": [
       "<Figure size 640x480 with 1 Axes>"
      ]
     },
     "metadata": {},
     "output_type": "display_data"
    }
   ],
   "source": [
    "plt.plot(class_error_new)\n",
    "plt.xlabel(\"k neighbors\")\n",
    "plt.ylabel(\"Error\")\n",
    "plt.show()"
   ]
  },
  {
   "cell_type": "markdown",
   "metadata": {},
   "source": [
    "#### 8.6.4 Worse performance in classifying \"good\" or \"bad\" wine\n",
    "\n",
    "A low generalisation rate may be dependent on the class distribution of the target variable `good wine`. Therefore, to evaluate the performance of the two models without depending on the class distribution, we will use the ROC curve. The ROC curve shows the trade-off between sensitivity (or TPR) and specificity (1 – FPR).\n",
    "\n",
    "The following graphs shows the ROC curve of the current model and a naive model. The naive model only predicts 0 for all samples.  Classifiers that give curves closer to the top-left corner indicate a better performance. As displayed in the graph, the original model preforms slightly better at predicting in both events( \"good\" or \"bad\" wine)."
   ]
  },
  {
   "cell_type": "code",
   "execution_count": 145,
   "metadata": {},
   "outputs": [
    {
     "data": {
      "image/png": "[encoded data removed]",
      "text/plain": [
       "<Figure size 640x480 with 1 Axes>"
      ]
     },
     "metadata": {},
     "output_type": "display_data"
    }
   ],
   "source": [
    "from sklearn.metrics import roc_curve\n",
    "lr_fpr, lr_tpr, _ = roc_curve(y_test.to_numpy(), pred_test)\n",
    "plt.plot(lr_fpr, lr_tpr, marker='.', label='k-NN (new split data)')\n",
    "\n",
    "ns_probs = [0 for _ in range(len(y_test))]\n",
    "ns_fpr, ns_tpr, _ = roc_curve(y_test, ns_probs)\n",
    "plt.plot(ns_fpr, ns_tpr, linestyle='--', label='Naive')\n",
    "\n",
    "lr_fpr_new, lr_tpr_new, _ = roc_curve(y_test_new.to_numpy(), pred_test_new)\n",
    "plt.plot(lr_fpr_new, lr_tpr_new, marker='.', label='k-NN (original data set)')\n",
    "\n",
    "# axis labels\n",
    "plt.xlabel('False Positive Rate')\n",
    "plt.ylabel('True Positive Rate')\n",
    "# show the legend\n",
    "plt.legend()\n",
    "# show the plot\n",
    "plt.show()"
   ]
  },
  {
   "cell_type": "markdown",
   "metadata": {},
   "source": [
    "As the goal is to predict plant types accurately, splitting a larger proportion of the data set to the training set lowers the generalisation error and provides us with a better outcome that aligns with our goal. "
   ]
  },
  {
   "cell_type": "markdown",
   "metadata": {},
   "source": [
    "# 9. Discussion on whether k-NN is a good classifier for the dataset"
   ]
  },
  {
   "cell_type": "markdown",
   "metadata": {},
   "source": [
    "**Functional requirements**\n",
    "\n",
    "To begin with, we may provide an obvious, observational answer: technically, k-NN fits the data, because it is a classifier and we are confronted with a classification problem. Moreover, we have no indication of what the relation between the Xs and the y would be, so a non-parametric model would be appropriate. \n"
   ]
  },
  {
   "cell_type": "markdown",
   "metadata": {},
   "source": [
    "**Shape of curve**\n",
    "\n",
    "The U-shaped curve of the error rate in the original split indicates that there is a good fit between the model and the data. Moreover, the optimal value of k is equal to 15, which is not far off from the rule of thumb commonly applied in practical applications, which states that k can be taken to be roughly equal to the square root of the training sample size (400 in this case). However, with the split in section 8, both the curve and the optimal k, which is 1, flag an inadequate fit between the classifier and the data."
   ]
  },
  {
   "cell_type": "markdown",
   "metadata": {},
   "source": [
    "**Need for pre-processing**\n",
    "\n",
    "Before k-Nearest Neighbours can be trained and deployed, there are a number of pre-processing steps that need to be taken. Although the method can also be used with more than two output categories, our requirement to implement a binary classifier meant that we had to map the 'quality' values onto the 'good wine' binary variable. Moreover, as different input variables exist on different scales, one must normalise all the data before it can be used in the model."
   ]
  },
  {
   "cell_type": "markdown",
   "metadata": {},
   "source": [
    "**Curse of dimensionality**\n",
    "\n",
    "We might argue that k-NN is not well-suited to the data set, as this model class suffers from the curse of dimensionality. This means that the more dimensions we add to our input vector, the exponentially more data we require to fit a reliable model. In our case, we perceive 11 dimensions, however on a data basis of maximum 600 training samples. Whilst we cannot prove that our model potentially suffers from this curse, there is an indication of it, given the relation of input dimensions and sample size."
   ]
  },
  {
   "cell_type": "markdown",
   "metadata": {},
   "source": [
    "**Robustness and data split**\n",
    "\n",
    "The model selection procedure (even though correct in theory) did not yield robust results. We recorded large changes in the the optimal k value (from k=15 in exercises 1-7 to k=1 in exercise 8) when we made small changes (resplit in exercise 8) in the training, validation and test sets. That captures the fact that at least in one of the two cases, the training data were not capturing enough information about the relationship between features and output variables. This is a good reminder that the more representative the training set is, the better the resulting model can generalise.\n",
    "\n",
    "Furthermore, the validation error obtained in the first part for k=15 is (roughly 4x) larger than the test set error. That further indicates that the initial training set captured enough information about the data in the test set but significnatly less information for the validation set. After the resplit, the validation error and generalisation error were the same (=15%) which signals that the new training set captured less (but the same) information for both validation and test sets. This highlights the disadvantage of one hold-out validation set. For different validation sets you get a different optimal k. K-fold cross validation is a suitable method that overcomes this pitfall, by creating multiple validation tests and choosing based on majority vote."
   ]
  },
  {
   "cell_type": "markdown",
   "metadata": {},
   "source": [
    "**Error rate in comparison with other models**"
   ]
  },
  {
   "cell_type": "markdown",
   "metadata": {},
   "source": [
    "Another way to answer the question of suitability of k-NN is to compare the model to other classifiers. Firstly, we compare the generalisation errors on the basis of the combined data set (training + validation). Secondly, we state a naive baseline: this baseline assumes an error rate, which corresponds to the percentage split of samples that are `not good wine` in the test data set. In other words, the naive baseline states: if we were to guess `not good wine` for any test sample given to us, we would achieve an error rate of 6.5%."
   ]
  },
  {
   "cell_type": "code",
   "execution_count": 146,
   "metadata": {},
   "outputs": [],
   "source": [
    "from sklearn.linear_model import LogisticRegression\n",
    "from sklearn.naive_bayes import GaussianNB\n",
    "from sklearn.tree import DecisionTreeClassifier"
   ]
  },
  {
   "cell_type": "code",
   "execution_count": 147,
   "metadata": {},
   "outputs": [
    {
     "data": {
      "text/plain": [
       "0.995"
      ]
     },
     "execution_count": 147,
     "metadata": {},
     "output_type": "execute_result"
    }
   ],
   "source": [
    "log_classifier = LogisticRegression(random_state=0).fit(x_combined.values, y_combined.values.ravel())\n",
    "pred_test_log = log_classifier.predict(x_test)\n",
    "log_classifier.score(x_test, y_test)"
   ]
  },
  {
   "cell_type": "code",
   "execution_count": 148,
   "metadata": {},
   "outputs": [
    {
     "data": {
      "text/plain": [
       "0.945"
      ]
     },
     "execution_count": 148,
     "metadata": {},
     "output_type": "execute_result"
    }
   ],
   "source": [
    "gaussNB = GaussianNB()\n",
    "gaussNB.fit(x_combined.values, y_combined.values.ravel())\n",
    "pred_test_gauss  = gaussNB.predict(x_test)\n",
    "gaussNB.score(x_test, y_test)"
   ]
  },
  {
   "cell_type": "code",
   "execution_count": 149,
   "metadata": {},
   "outputs": [
    {
     "data": {
      "text/plain": [
       "0.955"
      ]
     },
     "execution_count": 149,
     "metadata": {},
     "output_type": "execute_result"
    }
   ],
   "source": [
    "decision_tree_classifier = DecisionTreeClassifier(random_state=0)\n",
    "decision_tree_classifier.fit(x_combined.values, y_combined.values.ravel())\n",
    "pred_test_tree = decision_tree_classifier.predict(x_test)\n",
    "decision_tree_classifier.score(x_test, y_test)"
   ]
  },
  {
   "cell_type": "markdown",
   "metadata": {},
   "source": [
    "| Classifier | Best Generalisation error achieved |\n",
    "|  --- | --- |\n",
    "|  Naive baseline | 6.5% |\n",
    "|  k-NN | 2% |\n",
    "|  Logistic Regression | 0.5% |\n",
    "|Gaussian Naive Bayes | 5.5% |\n",
    "|Decision Tree | 4.5% |"
   ]
  },
  {
   "cell_type": "markdown",
   "metadata": {},
   "source": [
    "Looking at the table above, we realise that the k-NN model performs good, yet not best, in comparison to other classifiers. Logistic regression - as all other classifiers not tuned - achieves a lower error rate of 0.5%. In contrast, k-NN outperforms other classifiers, including Naive Bayes or Decision Tree. In conclusion, therefore, we may argue that the k-NN model does a relatively good job with regards to the data present. However, as we also discussed above, we must also take into account the lack of robustness of the k-NN model which negatively impacts the validity of the 2% generalisation error. "
   ]
  }
 ],
 "metadata": {
  "kernelspec": {
   "display_name": "Python 3",
   "language": "python",
   "name": "python3"
  },
  "language_info": {
   "codemirror_mode": {
    "name": "ipython",
    "version": 3
   },
   "file_extension": ".py",
   "mimetype": "text/x-python",
   "name": "python",
   "nbconvert_exporter": "python",
   "pygments_lexer": "ipython3",
   "version": "3.8.3"
  }
 },
 "nbformat": 4,
 "nbformat_minor": 5
}
