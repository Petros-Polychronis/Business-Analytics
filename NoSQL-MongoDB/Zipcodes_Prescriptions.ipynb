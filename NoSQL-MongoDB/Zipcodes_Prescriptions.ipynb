{
 "cells": [
  {
   "cell_type": "markdown",
   "metadata": {
    "deletable": true,
    "editable": true
   },
   "source": [
    "# Author: Petros Polychronis"
   ]
  },
  {
   "cell_type": "code",
   "execution_count": 1,
   "metadata": {
    "collapsed": false,
    "deletable": true,
    "editable": true,
    "jupyter": {
     "outputs_hidden": false
    }
   },
   "outputs": [
    {
     "data": {
      "text/plain": [
       "[29353, 239930]"
      ]
     },
     "execution_count": 1,
     "metadata": {},
     "output_type": "execute_result"
    }
   ],
   "source": [
    "import pymongo\n",
    "from pymongo import MongoClient\n",
    "import json\n",
    "import pprint\n",
    "import os\n",
    "import pandas as pd\n",
    "client = MongoClient(\"mongodb://mongo:27017\")\n",
    "db = client.db\n",
    "# Connect\n",
    "if(\"db\" not in client.list_database_names() or \"zipcodes\" not in db.list_collection_names() or \"prescriptions\" not in db.list_collection_names()):\n",
    "    os.system('python HW2-import.py')\n",
    "\n",
    "# Checking if the data is correctly inserted:\n",
    "[db.zipcodes.count_documents({}), db.prescriptions.count_documents({})]"
   ]
  },
  {
   "cell_type": "markdown",
   "metadata": {},
   "source": [
    "# Brief collection inspection\n",
    "## *zipcodes* collection schema"
   ]
  },
  {
   "cell_type": "code",
   "execution_count": 2,
   "metadata": {},
   "outputs": [
    {
     "data": {
      "text/plain": [
       "{'_id': '01001',\n",
       " 'city': 'AGAWAM',\n",
       " 'loc': [-72.622739, 42.070206],\n",
       " 'pop': 15338,\n",
       " 'state': 'MA'}"
      ]
     },
     "execution_count": 2,
     "metadata": {},
     "output_type": "execute_result"
    }
   ],
   "source": [
    "db.zipcodes.find_one()"
   ]
  },
  {
   "cell_type": "markdown",
   "metadata": {},
   "source": [
    "Each document in the *zipcodes* collection seems to be about cities in the US and has the following fields:\n",
    " - *_id*: mandatory unique document identifier (string)\n",
    " - *city*: name of the city (string)\n",
    " - *loc*: 2D location coordinates of the city's geographical center (list of numercial values)\n",
    " - *pop*: city's population (numerical value)\n",
    " - *state*: abbreviation of the state that the city belongs to (string)"
   ]
  },
  {
   "cell_type": "markdown",
   "metadata": {},
   "source": [
    "## *presciprtions* collection schema"
   ]
  },
  {
   "cell_type": "code",
   "execution_count": 3,
   "metadata": {},
   "outputs": [
    {
     "data": {
      "text/plain": [
       "{'_id': ObjectId('62c813d3efa44ab6860b2f0c'),\n",
       " 'cms_prescription_counts': {'DOXAZOSIN MESYLATE': 26,\n",
       "  'MIDODRINE HCL': 12,\n",
       "  'MEGESTROL ACETATE': 11,\n",
       "  'BENAZEPRIL HCL': 11,\n",
       "  'METOLAZONE': 73,\n",
       "  'NOVOLOG': 12,\n",
       "  'DIAZEPAM': 24,\n",
       "  'HYDRALAZINE HCL': 50,\n",
       "  'SENSIPAR': 94,\n",
       "  'LABETALOL HCL': 28,\n",
       "  'PREDNISONE': 40,\n",
       "  'CALCITRIOL': 79,\n",
       "  'HYDROCODONE-ACETAMINOPHEN': 64,\n",
       "  'HYDROCHLOROTHIAZIDE': 59,\n",
       "  'LOSARTAN-HYDROCHLOROTHIAZIDE': 14,\n",
       "  'FENOFIBRATE': 14,\n",
       "  'MINOXIDIL': 14,\n",
       "  'MELOXICAM': 29,\n",
       "  'ATENOLOL': 62,\n",
       "  'CARISOPRODOL': 40,\n",
       "  'GABAPENTIN': 35,\n",
       "  'OMEPRAZOLE': 35,\n",
       "  'KLOR-CON M10': 20,\n",
       "  'LANTUS': 20,\n",
       "  'AMLODIPINE BESYLATE': 175,\n",
       "  'CARVEDILOL': 36,\n",
       "  'LOSARTAN POTASSIUM': 41,\n",
       "  'IRBESARTAN': 11,\n",
       "  'NIFEDICAL XL': 32,\n",
       "  'NIFEDIPINE ER': 51,\n",
       "  'LEVOTHYROXINE SODIUM': 12,\n",
       "  'POTASSIUM CHLORIDE': 30,\n",
       "  'FUROSEMIDE': 162,\n",
       "  'GLYBURIDE': 16,\n",
       "  'CLONIDINE HCL': 43,\n",
       "  'TEMAZEPAM': 41,\n",
       "  'SPIRONOLACTONE': 50,\n",
       "  'LOVASTATIN': 11,\n",
       "  'LISINOPRIL': 44,\n",
       "  'PANTOPRAZOLE SODIUM': 13,\n",
       "  'CALCIUM ACETATE': 85,\n",
       "  'NEXIUM': 44,\n",
       "  'ZOLPIDEM TARTRATE': 41,\n",
       "  'DIOVAN': 20,\n",
       "  'OXYCODONE HCL': 51,\n",
       "  'METOPROLOL SUCCINATE': 104,\n",
       "  'RANITIDINE HCL': 21,\n",
       "  'ATORVASTATIN CALCIUM': 19,\n",
       "  'TAMSULOSIN HCL': 14,\n",
       "  'OXYBUTYNIN CHLORIDE': 11,\n",
       "  'LISINOPRIL-HYDROCHLOROTHIAZIDE': 19,\n",
       "  'METOPROLOL TARTRATE': 93,\n",
       "  'AMLODIPINE BESYLATE-BENAZEPRIL': 12,\n",
       "  'BUMETANIDE': 53,\n",
       "  'BYSTOLIC': 14,\n",
       "  'ISOSORBIDE MONONITRATE ER': 13,\n",
       "  'ALLOPURINOL': 86,\n",
       "  'CLOPIDOGREL': 22,\n",
       "  'RENVELA': 117,\n",
       "  'ABILIFY': 11,\n",
       "  'SERTRALINE HCL': 14,\n",
       "  'CIPROFLOXACIN HCL': 19,\n",
       "  'SIMVASTATIN': 14,\n",
       "  'PRAVASTATIN SODIUM': 13,\n",
       "  'ATENOLOL-CHLORTHALIDONE': 53,\n",
       "  'ALPRAZOLAM': 45,\n",
       "  'AZITHROMYCIN': 18,\n",
       "  'TRAMADOL HCL': 11},\n",
       " 'provider_variables': {'settlement_type': 'non-urban',\n",
       "  'generic_rx_count': 2287,\n",
       "  'specialty': 'Nephrology',\n",
       "  'years_practicing': 7,\n",
       "  'gender': 'M',\n",
       "  'region': 'South',\n",
       "  'brand_name_rx_count': 384},\n",
       " 'npi': '1295763035'}"
      ]
     },
     "execution_count": 3,
     "metadata": {},
     "output_type": "execute_result"
    }
   ],
   "source": [
    "db.prescriptions.find_one()"
   ]
  },
  {
   "cell_type": "markdown",
   "metadata": {},
   "source": [
    "Each document in the *prescription* collection seems to be about doctors and prescriptions they have given, and has the following fields:\n",
    " - *_id*: mandatory unique document identifier (ObjectId)\n",
    " - *'cms_prescription_counts'*: A field that contains an embedded document. The document contains drug names as fields (string) mathced with the prescribed amounts (numeric)\n",
    " - *provider_variables*: A field that also contains an embedded document providing information about the doctor. It contains the following fields:\n",
    "     - *settlement_type* (string)\n",
    "     - *gengeric_rx_count* (numeric)\n",
    "     - *specialty*: The doctor's specialisation area (string)\n",
    "     - *years_practicing* (numeric)\n",
    "     - *gender* (string)\n",
    "     - *region* (string)\n",
    "     - *brand_name_rx_count (numeric)\n",
    "     \n",
    "  - *npi*: The doctor's unique identifier number (string)"
   ]
  },
  {
   "cell_type": "markdown",
   "metadata": {
    "deletable": true,
    "editable": true
   },
   "source": [
    "# Queries for \"Zip codes\"\n",
    "\n",
    "## Q1\n",
    "\n",
    "Count the total number of cities in Washington state (code: \"WA\")\n"
   ]
  },
  {
   "cell_type": "markdown",
   "metadata": {},
   "source": [
    "## Q1 Solution\n",
    "\n",
    "### Solution approach\n",
    "The total number of cities in the state of Washington can be calculated in two steps. First, we match all documents from the collection that have 'WA' as value in their *state* field, and second, we count how many *distinct* (different) values exist for the *city* field among those (filtered) documents.\n",
    "\n",
    "This can be done in various ways. The standard approach would be to create a *pipeline*, a list of sequential manipulations/queries to be executed on the *zipcodes* collection, and apply it via the `aggregate()` method. We will see this technique multiple times later on. For now, we can get to the desired results in a (syntactically) simpler way by using pymongo's built-in functions `find()` and `disticnt()`.\n",
    "\n",
    "Steps:\n",
    "1. Apply the `find({condition})` method on the *zipcodes* collection to match all documents pertaining to the state of Washington. This returns a cursor object (cursor: object used to iterate over the results of the executed queries).\n",
    "\n",
    "2. Apply the `distinct(\"field of interest\")` function to return the  different values found for the *city* field within those documents. This mehtod is applied subsequently on the results of the `.find()` query and returns a list object.\n",
    "\n",
    "3. We can get the length of the list  by using Python's built-in function `len()`."
   ]
  },
  {
   "cell_type": "code",
   "execution_count": 4,
   "metadata": {},
   "outputs": [
    {
     "data": {
      "text/plain": [
       "397"
      ]
     },
     "execution_count": 4,
     "metadata": {},
     "output_type": "execute_result"
    }
   ],
   "source": [
    "# find the length of the list containing all distinct city names in WA.\n",
    "len(db.zipcodes.find({'state':'WA'}).distinct(\"city\"))"
   ]
  },
  {
   "cell_type": "markdown",
   "metadata": {},
   "source": [
    "## Q1 Answer\n",
    "There are in total 397 different values for the *city* field in the documents having 'WA' as *state*."
   ]
  },
  {
   "cell_type": "markdown",
   "metadata": {},
   "source": [
    "### Cross-check\n",
    "Is the number of different *cities* equal to the number of documents having 'WA' as *state*? Intuitively,  we would expect the two numbers to be equal, since a) it is hard to imagine a state having different cities with the same name and b) each entry gives information about a city, and in a well-maintained DB we would not want to have duplicate entries."
   ]
  },
  {
   "cell_type": "markdown",
   "metadata": {},
   "source": [
    "If we cacluate the number of documents associated with the state of Washington, we see that there are 484 documents, but only 397 different cities. Further inspection could reveal whether there are duplicate entries or not, which we would ideally want to filter out for future calculations, such as population sums."
   ]
  },
  {
   "cell_type": "code",
   "execution_count": 5,
   "metadata": {},
   "outputs": [
    {
     "data": {
      "text/plain": [
       "484"
      ]
     },
     "execution_count": 5,
     "metadata": {},
     "output_type": "execute_result"
    }
   ],
   "source": [
    "# find documents with state = 'WA'\n",
    "db.zipcodes.count_documents({'state':'WA'})"
   ]
  },
  {
   "cell_type": "markdown",
   "metadata": {},
   "source": [
    "By inspecting a handful of documents, it becomes clear that the information is not duplicated. For example, while there are multiple documents for the *city* \"BELLEVUE\", each refers to a slightly different location and the populations are rather different. Therefore, we assume that these entries are complentary for the city of \"BELLEVUE\" (and for the rest of the cities where the same occurs) and we would want to factor them in in future calculations."
   ]
  },
  {
   "cell_type": "code",
   "execution_count": 6,
   "metadata": {},
   "outputs": [
    {
     "name": "stdout",
     "output_type": "stream",
     "text": [
      "city ALGONA loc [-122.270057, 47.316339] population 22846\n",
      "city AUBURN loc [-122.206741, 47.30503] population 38163\n",
      "city FEDERAL WAY loc [-122.311726, 47.3203] population 34573\n",
      "city BEAUX ARTS loc [-122.207371, 47.619899] population 23724\n",
      "city BELLEVUE loc [-122.166288, 47.614961] population 14297\n",
      "city BELLEVUE loc [-122.155179, 47.561425] population 26775\n",
      "city BELLEVUE loc [-122.142572, 47.617443] population 21887\n",
      "city BELLEVUE loc [-122.116173, 47.611468] population 24046\n"
     ]
    }
   ],
   "source": [
    "q1_list = list(db.zipcodes.find({'state':'WA'}))\n",
    "\n",
    "for i in range(8):\n",
    "    print(\"city\", q1_list[i]['city'], \"loc\", q1_list[i]['loc'], \"population\", q1_list[i]['pop'] )"
   ]
  },
  {
   "cell_type": "markdown",
   "metadata": {},
   "source": [
    "## Q2\n",
    "\n",
    "Find the total population of each state (i.e., sort states by their population in the ascending\n",
    "order)."
   ]
  },
  {
   "cell_type": "markdown",
   "metadata": {},
   "source": [
    "## Solution approach\n",
    "\n",
    "We can find the population of each state using a \"groupby\"-like operation using the MongoDB's `$group` operator. Specifically, we will group by the *state* field  as key and sum the populations of all documents with the same *state* value. Finally, we can sort the results using the `$sort` operator.\n",
    "\n",
    "Before implementing our solution, we perform a few sanity checks on the field values needed for the calculations."
   ]
  },
  {
   "cell_type": "markdown",
   "metadata": {},
   "source": [
    "## Sanity Checks \n",
    "\n",
    "\n",
    "### Check 1\n",
    "Verfiy that all population entries are numbers (not strings etc.)"
   ]
  },
  {
   "cell_type": "code",
   "execution_count": 7,
   "metadata": {},
   "outputs": [
    {
     "data": {
      "text/plain": [
       "29353"
      ]
     },
     "execution_count": 7,
     "metadata": {},
     "output_type": "execute_result"
    }
   ],
   "source": [
    "len(list(db.zipcodes.find({\"pop\": {\"$type\": \"int\"}})))"
   ]
  },
  {
   "cell_type": "markdown",
   "metadata": {},
   "source": [
    "This is a convenient way to ascertain that all documents have integers as values in their *pop* field (if not all values were integers, we would have to search deeper as there are other numeric data types as well). The number of documents contained in the *zipcodes* collection is indeed 29353 (we checked that at the start). Another way to double-check this is with Python's `assert` which verifies that a logical expression is *True*."
   ]
  },
  {
   "cell_type": "code",
   "execution_count": 8,
   "metadata": {},
   "outputs": [],
   "source": [
    "assert len(list(db.zipcodes.find({\"pop\": {\"$type\": \"int\"}}))) == db.zipcodes.count_documents({})"
   ]
  },
  {
   "cell_type": "markdown",
   "metadata": {},
   "source": [
    "### Check 2\n",
    "Verfiy that all population entries are >0"
   ]
  },
  {
   "cell_type": "code",
   "execution_count": 9,
   "metadata": {},
   "outputs": [
    {
     "data": {
      "text/plain": [
       "0"
      ]
     },
     "execution_count": 9,
     "metadata": {},
     "output_type": "execute_result"
    }
   ],
   "source": [
    "len(list(db.zipcodes.find({\"pop\":{\"$lt\": 0}})))"
   ]
  },
  {
   "cell_type": "markdown",
   "metadata": {},
   "source": [
    "A list lengh of 0 signals that no document satisfying the condition has been found."
   ]
  },
  {
   "cell_type": "markdown",
   "metadata": {},
   "source": [
    "We can implement  our approach with a `pipeline`. Created as a list of actions/queries in the format `pipeline = [{query 1}, {query 2},...,{query n}]`, the pipeline is passed as argument in the `.aggreate()` method to get executed. The returned object is a cursor.\n",
    "\n",
    "Steps:  \n",
    "1. Pipeline\n",
    "    - Group by *state* and sum populations: `{\"$group\": {\"_id\": \"$state\", \"population\": {\"$sum\": '$pop'}}}`. The group by key is always given as *\"_id\"* and will be the values ($) of the field *state*. The population of each state will be returned as new field named \"population\"and will be calculated as the sum of all populations (field *pop* )belonging to the same *state* from the original *zipcodes* collection.\n",
    "    \n",
    "    - Sort results in ascending order (by population)) using the query syntax: `{\"$sort\": {\"population\": 1, \"_id\": 1}}` We rely on the `$sort` operator and pass *population* as the field that we want to order by in the format: `{\"field name\" : 1}`. 1 is used for ascending order and -1 for descending order. We can also order by multiple fields, which is used as a tie-breaker. In the event of population ties, we will sort the cities by `\"_id\": 1`, i.e., in ascending lexicographic order.\n",
    "    \n",
    "2. Applying the *pipeline* via the `.aggregate()` method returns a cursor object. We convert the latter into a list via Python's `list()` function. That creates a list of dictionaries, where each contains two key-value pairs of the form: `{'_id': state, 'population': value of state's population}`\n"
   ]
  },
  {
   "cell_type": "code",
   "execution_count": 10,
   "metadata": {},
   "outputs": [],
   "source": [
    "pipeline = [\n",
    "    {\"$group\": {\"_id\": \"$state\", \"population\": {\"$sum\": '$pop'}}},\n",
    "    {\"$sort\": {\"population\": 1, \"_id\": 1}}\n",
    "]"
   ]
  },
  {
   "cell_type": "code",
   "execution_count": 11,
   "metadata": {
    "deletable": true,
    "editable": true,
    "tags": []
   },
   "outputs": [
    {
     "data": {
      "text/plain": [
       "{'_id': 'WY', 'population': 453528}"
      ]
     },
     "execution_count": 11,
     "metadata": {},
     "output_type": "execute_result"
    }
   ],
   "source": [
    "# apply pipeline\n",
    "states_by_population = list(db.zipcodes.aggregate(pipeline))\n",
    "# preview of one list element\n",
    "states_by_population[0]"
   ]
  },
  {
   "cell_type": "markdown",
   "metadata": {},
   "source": [
    "## Q2 Answer"
   ]
  },
  {
   "cell_type": "code",
   "execution_count": 12,
   "metadata": {},
   "outputs": [
    {
     "name": "stdout",
     "output_type": "stream",
     "text": [
      "State: WY Population: 453528\n",
      "State: AK Population: 544698\n",
      "State: VT Population: 562758\n",
      "State: DC Population: 606900\n",
      "State: ND Population: 638272\n",
      "State: DE Population: 666168\n",
      "State: SD Population: 695397\n",
      "State: MT Population: 798948\n",
      "State: RI Population: 1003218\n",
      "State: ID Population: 1006749\n",
      "State: HI Population: 1108229\n",
      "State: NH Population: 1109252\n",
      "State: NV Population: 1201833\n",
      "State: ME Population: 1226648\n",
      "State: NM Population: 1515069\n",
      "State: NE Population: 1578139\n",
      "State: UT Population: 1722850\n",
      "State: WV Population: 1793146\n",
      "State: AR Population: 2350725\n",
      "State: KS Population: 2475285\n",
      "State: MS Population: 2573216\n",
      "State: IA Population: 2776420\n",
      "State: OR Population: 2842321\n",
      "State: OK Population: 3145585\n",
      "State: CT Population: 3287116\n",
      "State: CO Population: 3293755\n",
      "State: SC Population: 3486703\n",
      "State: AZ Population: 3665228\n",
      "State: KY Population: 3675484\n",
      "State: AL Population: 4040587\n",
      "State: LA Population: 4217595\n",
      "State: MN Population: 4372982\n",
      "State: MD Population: 4781379\n",
      "State: WA Population: 4866692\n",
      "State: TN Population: 4876457\n",
      "State: WI Population: 4891769\n",
      "State: MO Population: 5110648\n",
      "State: IN Population: 5544136\n",
      "State: MA Population: 6016425\n",
      "State: VA Population: 6181479\n",
      "State: GA Population: 6478216\n",
      "State: NC Population: 6628637\n",
      "State: NJ Population: 7730188\n",
      "State: MI Population: 9295297\n",
      "State: OH Population: 10846517\n",
      "State: IL Population: 11427576\n",
      "State: PA Population: 11881643\n",
      "State: FL Population: 12686644\n",
      "State: TX Population: 16984601\n",
      "State: NY Population: 17990402\n",
      "State: CA Population: 29754890\n"
     ]
    }
   ],
   "source": [
    "# print nicely\n",
    "for i in states_by_population:\n",
    "    print(\"State:\", i['_id'], \"Population:\", i['population'])"
   ]
  },
  {
   "cell_type": "markdown",
   "metadata": {},
   "source": [
    "## Q3"
   ]
  },
  {
   "cell_type": "markdown",
   "metadata": {},
   "source": [
    "Find the 10 closest cities to WEST BROOKLYN, IL. You might want to use the \"$near\" operator"
   ]
  },
  {
   "cell_type": "markdown",
   "metadata": {},
   "source": [
    "## Solution Approach\n",
    "\n",
    "The challenge of finding the 10 closest cities to WEST BROOKLYN in Illinois can be tackled with a three-step process. The first step is to find and extract the location of WEST BROOKLYN which is stored in the field *loc*. The location being now available, we can trace nearby cities using MongoDB's `$near` operator which orders all documents in the collection in ascending distance from the given startpoint (here WEST BROOKLYN's location). To be able to use the `$near`  operator, we will have to create a geospatial index, *GEO2D* based on *loc*'s field values. Finally, we limit the returned results to the 10 first (closest) documents, excluding WEST BROOKLYN itself."
   ]
  },
  {
   "cell_type": "markdown",
   "metadata": {},
   "source": [
    "## Sanity Checks\n",
    "\n",
    "We need to make sure there is only one WEST BROOKLYN, IL entry. As shown in Q1, there can be multiple entries under the same city name. If more than one are provided, we may have to take an average value of all locations. Here, it turns out that there is only one city named WEST BROOKLYN in Illinois, so we do not have to take further action."
   ]
  },
  {
   "cell_type": "code",
   "execution_count": 13,
   "metadata": {},
   "outputs": [
    {
     "data": {
      "text/plain": [
       "1"
      ]
     },
     "execution_count": 13,
     "metadata": {},
     "output_type": "execute_result"
    }
   ],
   "source": [
    "len(list(db.zipcodes.find({\"city\" : \"WEST BROOKLYN\", \"state\": \"IL\"})))"
   ]
  },
  {
   "cell_type": "markdown",
   "metadata": {},
   "source": [
    "## Solution\n",
    "Steps:\n",
    "\n",
    "1. Extract the *loc* value from  WEST BROOKLYN, IL. Applying `find_one()`, returns a dictionary that resembles the document matching the criteria `{\"city\" : \"WEST BROOKLYN\", \"state\": \"IL\"}`. We extarct and save the coordinates in a list named *west_brooklyn_loc* using Python's dictionary syntax, i.e., dictionary['key name'] (here: ['loc'])"
   ]
  },
  {
   "cell_type": "code",
   "execution_count": 14,
   "metadata": {},
   "outputs": [
    {
     "data": {
      "text/plain": [
       "[-89.190917, 41.729156]"
      ]
     },
     "execution_count": 14,
     "metadata": {},
     "output_type": "execute_result"
    }
   ],
   "source": [
    "# get WEST BROOKLYN coordinates in a list\n",
    "west_brooklyn_loc = db.zipcodes.find_one({\"city\" : \"WEST BROOKLYN\", \"state\": \"IL\"})['loc']\n",
    "\n",
    "west_brooklyn_loc"
   ]
  },
  {
   "cell_type": "markdown",
   "metadata": {},
   "source": [
    "2. import GEO2D geospatial index from pymongo."
   ]
  },
  {
   "cell_type": "code",
   "execution_count": 15,
   "metadata": {},
   "outputs": [],
   "source": [
    "from pymongo import GEO2D"
   ]
  },
  {
   "cell_type": "markdown",
   "metadata": {},
   "source": [
    "3.  Create new geospatial index of type GEO2D based on the values of the field *loc* using the following syntax."
   ]
  },
  {
   "cell_type": "code",
   "execution_count": 16,
   "metadata": {},
   "outputs": [
    {
     "data": {
      "text/plain": [
       "'loc_2d'"
      ]
     },
     "execution_count": 16,
     "metadata": {},
     "output_type": "execute_result"
    }
   ],
   "source": [
    "# crete new geospatial index of type GEO2D\n",
    "db.zipcodes.create_index([(\"loc\", GEO2D)])"
   ]
  },
  {
   "cell_type": "markdown",
   "metadata": {},
   "source": [
    "4. Use `find()` with two conditions (seperated by comma) as criteria:\n",
    "    - Use `$near` operator to sort documents in ascending distance from the starting coordinates *west_brooklyn_loc* : `{\"loc\": {\"$near\": west_brooklyn_loc}`\n",
    "    - Exclude cities with the name \"WEST BROOKLYN\": `\"city\": {\"$ne\": \"WEST BROOKLYN}`\n",
    "    - Limit the returned results to the first closest cities. Applying the `.limit()` method, automatically converts the results from a cursor object into  a list of dictionaries."
   ]
  },
  {
   "cell_type": "code",
   "execution_count": 17,
   "metadata": {},
   "outputs": [
    {
     "data": {
      "text/plain": [
       "{'_id': '61367',\n",
       " 'city': 'SUBLETTE',\n",
       " 'loc': [-89.235409, 41.633144],\n",
       " 'pop': 899,\n",
       " 'state': 'IL'}"
      ]
     },
     "execution_count": 17,
     "metadata": {},
     "output_type": "execute_result"
    }
   ],
   "source": [
    "#apply query\n",
    "closest_places = db.zipcodes.find({\"loc\": {\"$near\": west_brooklyn_loc}, \n",
    "                  \"city\": {\"$ne\": \"WEST BROOKLYN\"} })\\\n",
    "                   .limit(10)\n",
    "\n",
    "# preview one entry \n",
    "closest_places[0]"
   ]
  },
  {
   "cell_type": "markdown",
   "metadata": {},
   "source": [
    "## Q3 Answer"
   ]
  },
  {
   "cell_type": "code",
   "execution_count": 18,
   "metadata": {},
   "outputs": [
    {
     "name": "stdout",
     "output_type": "stream",
     "text": [
      "State: IL, City:  SUBLETTE, Location: [-89.235409, 41.633144]\n",
      "State: IL, City:  COMPTON, Location: [-89.087708, 41.684976]\n",
      "State: IL, City:  ASHTON, Location: [-89.2086, 41.864327]\n",
      "State: IL, City:  AMBOY, Location: [-89.34716, 41.704181]\n",
      "State: IL, City:  FRANKLIN GROVE, Location: [-89.317112, 41.857968]\n",
      "State: IL, City:  MENDOTA, Location: [-89.10828, 41.544308]\n",
      "State: IL, City:  STEWARD, Location: [-89.015086, 41.847545]\n",
      "State: IL, City:  LA MOILLE, Location: [-89.297024, 41.537557]\n",
      "State: IL, City:  LEE, Location: [-88.971386, 41.786418]\n",
      "State: IL, City:  PAW PAW, Location: [-88.967377, 41.685228]\n"
     ]
    }
   ],
   "source": [
    "# print nicely\n",
    "for i in closest_places:\n",
    "    print(\"State:\", i['state'] + \",\", \"City: \", i['city']+ \",\", \"Location:\", i['loc'])"
   ]
  },
  {
   "cell_type": "markdown",
   "metadata": {},
   "source": [
    "Printing the results, we verify that:\n",
    "1. The 10 closest cities are also in Illinois (sanity check)\n",
    "2. There are no duplicate entries for the 10 cities listed (we may have had to aggregate them into 1 entry)"
   ]
  },
  {
   "cell_type": "markdown",
   "metadata": {},
   "source": [
    "## Q4"
   ]
  },
  {
   "cell_type": "markdown",
   "metadata": {},
   "source": [
    "Considering the `region` of each US state, according to this source, find the total population in\n",
    "each of the four regions (West, South, Midwest, and Northeast)"
   ]
  },
  {
   "cell_type": "markdown",
   "metadata": {
    "jp-MarkdownHeadingCollapsed": true,
    "tags": []
   },
   "source": [
    "## Solution approach\n",
    "\n",
    "A region field missing from the *zipcodes* collection, we will resort to creating ourselves a new field based on the *state* values and the mapping of states to regions as indicated [here](https://en.wikipedia.org/wiki/List_of_regions_of_the_United_States). Once we have created a new field that pinpoints the region of each document in the collection, we can group by the  newly created region and sum the *pop* values."
   ]
  },
  {
   "cell_type": "markdown",
   "metadata": {},
   "source": [
    "## Sanity Check\n",
    "Our approach relies on using  *state* values to assign each document to a region. A potential issue arises if not all documents have a *state* field. We can count the number of documents that have a *state* attribute and compare that to the total number of documents using the following syntax."
   ]
  },
  {
   "cell_type": "code",
   "execution_count": 19,
   "metadata": {},
   "outputs": [],
   "source": [
    "assert len(list(db.zipcodes.find({\"state\":{\"$exists\":True}}))) == db.zipcodes.count_documents({})"
   ]
  },
  {
   "cell_type": "markdown",
   "metadata": {},
   "source": [
    "It turns out that all documents have a *state* field."
   ]
  },
  {
   "cell_type": "markdown",
   "metadata": {},
   "source": [
    "Steps:\n",
    "\n",
    "1. We create a list that contains all states per region. To be precise, we can create n-1 lists (for n=4 regions) and define a default region which will be assigned to all documents not belonging to the n-1 regions."
   ]
  },
  {
   "cell_type": "code",
   "execution_count": 20,
   "metadata": {},
   "outputs": [],
   "source": [
    "# crete lists for each region with the states belonging to them\n",
    "west = ['AZ', 'NM', 'WA', 'OR', 'CA', 'NV', 'UT','CO', 'WY', 'MT', 'ID', 'AK', 'HI']\n",
    "midwest = ['ND', 'SD', 'NE','KS', 'MN','IA','MO', 'IL','IN','OH','MI', 'WI']\n",
    "northeast = ['PA', 'NY', 'NJ', 'CT', 'RI', 'NH', 'MA', 'ME', 'VT']"
   ]
  },
  {
   "cell_type": "markdown",
   "metadata": {},
   "source": [
    "2. The pipeline consists of two main actions.\n",
    "    1. Assign regions to each document: We use the `$set` operator to define a new field named *region*. We make use of the `$switch` operator to create three cases (for the three lists of regions) and one default case, defined by the *default* keyword. To define a case, we use the syntax: `{\"case\": if-condition, \"then\": action (value to be assigned to field region)}` The condition checks whether the value of the *state* attribute for each document is contained with the lists west, midwest, northeast. If the condition is met, the corresponding region value is assigned to the  *region* field. If no condition is met, the value *South* is assigned.\n",
    "        \n",
    "    2. Group by regions and sum the populations. We group by the newly created field *region* and sum all populations: `{\"$group\": {\"_id\" : \"$region\", \"population\": {\"$sum\": '$pop'}}}`.\n",
    "   "
   ]
  },
  {
   "cell_type": "code",
   "execution_count": 21,
   "metadata": {},
   "outputs": [],
   "source": [
    "q4_pipeline = [{\"$set\": {\"region\":\n",
    "             {\"$switch\": \n",
    "              {\"branches\":[\n",
    "                  {\"case\": {\"$in\": [\"$state\", west]}, \"then\": \"West\"},\n",
    "                  {\"case\": {\"$in\": [\"$state\", midwest]}, \"then\": \"Midwest\"}, \n",
    "                  {\"case\": {\"$in\": [\"$state\", northeast]}, \"then\": \"Northeast\"}], \n",
    "                  \"default\": \"South\"}}}},\n",
    "                  \n",
    "                  {\"$group\": {\"_id\" : \"$region\", \"population\": {\"$sum\": '$pop'}}}]"
   ]
  },
  {
   "cell_type": "markdown",
   "metadata": {},
   "source": [
    "3. Apply th pipeline via `.aggregate()` and convert results into a list (using `list()`)."
   ]
  },
  {
   "cell_type": "code",
   "execution_count": 22,
   "metadata": {},
   "outputs": [
    {
     "data": {
      "text/plain": [
       "{'_id': 'Midwest', 'population': 59652438}"
      ]
     },
     "execution_count": 22,
     "metadata": {},
     "output_type": "execute_result"
    }
   ],
   "source": [
    "#apply pipeline and convert to list\n",
    "population_by_region = list(db.zipcodes.aggregate(q4_pipeline))\n",
    "\n",
    "# preview one result\n",
    "population_by_region[0]"
   ]
  },
  {
   "cell_type": "markdown",
   "metadata": {},
   "source": [
    "## Q4 Answer"
   ]
  },
  {
   "cell_type": "code",
   "execution_count": 23,
   "metadata": {},
   "outputs": [
    {
     "name": "stdout",
     "output_type": "stream",
     "text": [
      "US Region: Midwest, Population: 59652438\n",
      "US Region: Northeast, Population: 50807650\n",
      "US Region: West, Population: 52774790\n",
      "US Region: South, Population: 85173522\n"
     ]
    }
   ],
   "source": [
    "# print nicely\n",
    "for i in population_by_region:\n",
    "    print(\"US Region:\", i['_id'] + \", Population:\", i['population'])"
   ]
  },
  {
   "cell_type": "code",
   "execution_count": 24,
   "metadata": {},
   "outputs": [
    {
     "data": {
      "text/plain": [
       "<pymongo.results.UpdateResult at 0x7fb9c0a42bc0>"
      ]
     },
     "execution_count": 24,
     "metadata": {},
     "output_type": "execute_result"
    }
   ],
   "source": [
    "# delete new field\n",
    "db.zipcodes.update_many({}, {\"$unset\": {\"region\": \"\"}})"
   ]
  },
  {
   "cell_type": "markdown",
   "metadata": {},
   "source": [
    "## Q5"
   ]
  },
  {
   "cell_type": "markdown",
   "metadata": {},
   "source": [
    "Find the 3 most populated cities for each state (in one query)"
   ]
  },
  {
   "cell_type": "markdown",
   "metadata": {},
   "source": [
    "## Solution approach\n",
    "We create and apply the following pipeline:\n",
    "\n",
    "1. Pipeline. It contains the following 5 steps\n",
    "\n",
    "    1. We group by *state* and *city* and sum the populations of each city (remember there might be multiple entries for each city): `{\"$group\": {\"_id\": {\"state\": \"$state\", \"city\": \"$city\"}, \"Population\": {\"$sum\": \"$pop\"}}}`\n",
    "    2. We sort a) the states alphabetically, and b) the cities (for each state) by population in descending order: `{\"$sort\" : {\"_id.state\" : 1, \"Population\" : -1}}`\n",
    "    3. We group again, this time only by *state* and aggregate the results by creating, for each state, a list (under a new field called *cities-pop*) and appending to it a dictionary for each of its cities containing the name of the city  as *city* and its population as *pop*. In other words, after step three we have for each state a list of dictionaries (for all its cities) in the format: `{'_id': 'state', 'cities-pop': [{'city':ANCHORAGE, 'pop': 183987}, {city 2},..., {last city of 'state'}]}`. The \"appending\" to a list action is undertaken through the `$push` operator and the insertion to the list happens according to the ordering of step 2. Particularly, the first values of the list correspond to the most populated cities.\n",
    "    4. We use the `$slice` operator on the *cities-pop* field to keep only the first three entries, which correspond to the 3 most populated cities for each state: `{\"$project\": {\"top-3\": {'$slice':[\"$cities-pop\",3]}}`. Each document, now takes the form: `{'_id': 'AK', 'top-3': [{'city': 'ANCHORAGE', 'pop': 183987}, {'city': 'FAIRBANKS', 'pop': 31379}, {'city': 'JUNEAU', 'pop': 24947}]}`\n",
    "    5. Finally, we sort the results in alphabetical order according to the name of the state (this step is for formatting reasons only)."
   ]
  },
  {
   "cell_type": "code",
   "execution_count": 25,
   "metadata": {},
   "outputs": [],
   "source": [
    "q5_pipeline = [\n",
    "            {\"$group\": {\"_id\": {\"state\": \"$state\", \"city\": \"$city\"}, \"Population\": {\"$sum\": \"$pop\"}}},\n",
    "            {\"$sort\" : {\"_id.state\" : 1, \"Population\" : -1}},\n",
    "            {\"$group\": {'_id': \"$_id.state\", \"cities-pop\": {\"$push\": {\"city\":\"$_id.city\", \"pop\": \"$Population\"}}}},\n",
    "            {\"$project\": {\"top-3\": {'$slice':[\"$cities-pop\",3]}}},\n",
    "            {\"$sort\" : {\"_id\":1}}\n",
    "]"
   ]
  },
  {
   "cell_type": "markdown",
   "metadata": {},
   "source": [
    "2. Apply the pipeline and preview the results"
   ]
  },
  {
   "cell_type": "code",
   "execution_count": 26,
   "metadata": {},
   "outputs": [
    {
     "data": {
      "text/plain": [
       "[{'_id': 'AK',\n",
       "  'top-3': [{'city': 'ANCHORAGE', 'pop': 183987},\n",
       "   {'city': 'FAIRBANKS', 'pop': 31379},\n",
       "   {'city': 'JUNEAU', 'pop': 24947}]},\n",
       " {'_id': 'AL',\n",
       "  'top-3': [{'city': 'BIRMINGHAM', 'pop': 242606},\n",
       "   {'city': 'MOBILE', 'pop': 235452},\n",
       "   {'city': 'MONTGOMERY', 'pop': 193811}]}]"
      ]
     },
     "execution_count": 26,
     "metadata": {},
     "output_type": "execute_result"
    }
   ],
   "source": [
    "# apply pipeline\n",
    "q5 = list(db.zipcodes.aggregate(q5_pipeline))\n",
    "# preview results\n",
    "q5[0:2]"
   ]
  },
  {
   "cell_type": "markdown",
   "metadata": {},
   "source": [
    "**Note**: WASHINGTON DC is a state with two cities only, WASHINGTON and PENTAGON. The `$slice` operator is robust and returns only the first two results without raising an error. To avoid an error when printing, we have included a *try* *except* clause which circumvents this issue for WHASHINGTON DC as well."
   ]
  },
  {
   "cell_type": "markdown",
   "metadata": {},
   "source": [
    "## Q5 Answer"
   ]
  },
  {
   "cell_type": "code",
   "execution_count": 27,
   "metadata": {},
   "outputs": [
    {
     "name": "stdout",
     "output_type": "stream",
     "text": [
      "State: AK, City: ANCHORAGE, Population: 183987\n",
      "State: AK, City: FAIRBANKS, Population: 31379\n",
      "State: AK, City: JUNEAU, Population: 24947\n",
      "\n",
      "\n",
      "State: AL, City: BIRMINGHAM, Population: 242606\n",
      "State: AL, City: MOBILE, Population: 235452\n",
      "State: AL, City: MONTGOMERY, Population: 193811\n",
      "\n",
      "\n",
      "State: AR, City: LITTLE ROCK, Population: 192895\n",
      "State: AR, City: FORT SMITH, Population: 76584\n",
      "State: AR, City: JONESBORO, Population: 53532\n",
      "\n",
      "\n",
      "State: AZ, City: PHOENIX, Population: 890853\n",
      "State: AZ, City: TUCSON, Population: 586451\n",
      "State: AZ, City: MESA, Population: 316356\n",
      "\n",
      "\n",
      "State: CA, City: LOS ANGELES, Population: 2102295\n",
      "State: CA, City: SAN DIEGO, Population: 1049298\n",
      "State: CA, City: SAN JOSE, Population: 816653\n",
      "\n",
      "\n",
      "State: CO, City: DENVER, Population: 451182\n",
      "State: CO, City: COLORADO SPRINGS, Population: 340404\n",
      "State: CO, City: AURORA, Population: 237454\n",
      "\n",
      "\n",
      "State: CT, City: BRIDGEPORT, Population: 141638\n",
      "State: CT, City: HARTFORD, Population: 139685\n",
      "State: CT, City: WATERBURY, Population: 108681\n",
      "\n",
      "\n",
      "State: DC, City: WASHINGTON, Population: 606879\n",
      "State: DC, City: PENTAGON, Population: 21\n",
      "\n",
      "\n",
      "State: DE, City: NEWARK, Population: 111674\n",
      "State: DE, City: WILMINGTON, Population: 92294\n",
      "State: DE, City: MANOR, Population: 46906\n",
      "\n",
      "\n",
      "State: FL, City: MIAMI, Population: 825232\n",
      "State: FL, City: JACKSONVILLE, Population: 610160\n",
      "State: FL, City: TAMPA, Population: 498997\n",
      "\n",
      "\n",
      "State: GA, City: ATLANTA, Population: 609591\n",
      "State: GA, City: MARIETTA, Population: 247328\n",
      "State: GA, City: COLUMBUS, Population: 166166\n",
      "\n",
      "\n",
      "State: HI, City: HONOLULU, Population: 396643\n",
      "State: HI, City: KANEOHE, Population: 55236\n",
      "State: HI, City: KAILUA, Population: 53403\n",
      "\n",
      "\n",
      "State: IA, City: DES MOINES, Population: 148155\n",
      "State: IA, City: CEDAR RAPIDS, Population: 116146\n",
      "State: IA, City: DAVENPORT, Population: 95743\n",
      "\n",
      "\n",
      "State: ID, City: BOISE, Population: 165522\n",
      "State: ID, City: POCATELLO, Population: 48887\n",
      "State: ID, City: NAMPA, Population: 44543\n",
      "\n",
      "\n",
      "State: IL, City: CHICAGO, Population: 2452177\n",
      "State: IL, City: ROCKFORD, Population: 167031\n",
      "State: IL, City: LINCOLNWOOD, Population: 111365\n",
      "\n",
      "\n",
      "State: IN, City: INDIANAPOLIS, Population: 348868\n",
      "State: IN, City: FORT WAYNE, Population: 261863\n",
      "State: IN, City: EVANSVILLE, Population: 165800\n",
      "\n",
      "\n",
      "State: KS, City: WICHITA, Population: 295115\n",
      "State: KS, City: TOPEKA, Population: 147662\n",
      "State: KS, City: KANSAS CITY, Population: 116911\n",
      "\n",
      "\n",
      "State: KY, City: LOUISVILLE, Population: 288058\n",
      "State: KY, City: LEXINGTON, Population: 227262\n",
      "State: KY, City: OWENSBORO, Population: 72595\n",
      "\n",
      "\n",
      "State: LA, City: NEW ORLEANS, Population: 496937\n",
      "State: LA, City: BATON ROUGE, Population: 291688\n",
      "State: LA, City: SHREVEPORT, Population: 151468\n",
      "\n",
      "\n",
      "State: MA, City: WORCESTER, Population: 169856\n",
      "State: MA, City: SPRINGFIELD, Population: 148062\n",
      "State: MA, City: DORCHESTER, Population: 126821\n",
      "\n",
      "\n",
      "State: MD, City: BALTIMORE, Population: 733081\n",
      "State: MD, City: ROCKVILLE, Population: 95961\n",
      "State: MD, City: SILVER SPRING, Population: 82536\n",
      "\n",
      "\n",
      "State: ME, City: PORTLAND, Population: 63268\n",
      "State: ME, City: BANGOR, Population: 40434\n",
      "State: ME, City: LEWISTON, Population: 40173\n",
      "\n",
      "\n",
      "State: MI, City: DETROIT, Population: 963243\n",
      "State: MI, City: GRAND RAPIDS, Population: 185579\n",
      "State: MI, City: KALAMAZOO, Population: 172224\n",
      "\n",
      "\n",
      "State: MN, City: MINNEAPOLIS, Population: 344719\n",
      "State: MN, City: SAINT PAUL, Population: 194893\n",
      "State: MN, City: BLOOMINGTON, Population: 86325\n",
      "\n",
      "\n",
      "State: MO, City: SAINT LOUIS, Population: 397802\n",
      "State: MO, City: KANSAS CITY, Population: 360182\n",
      "State: MO, City: SPRINGFIELD, Population: 175749\n",
      "\n",
      "\n",
      "State: MS, City: JACKSON, Population: 204788\n",
      "State: MS, City: GULFPORT, Population: 70868\n",
      "State: MS, City: HATTIESBURG, Population: 67345\n",
      "\n",
      "\n",
      "State: MT, City: BILLINGS, Population: 78805\n",
      "State: MT, City: GREAT FALLS, Population: 69268\n",
      "State: MT, City: MISSOULA, Population: 66905\n",
      "\n",
      "\n",
      "State: NC, City: CHARLOTTE, Population: 465833\n",
      "State: NC, City: RALEIGH, Population: 273470\n",
      "State: NC, City: GREENSBORO, Population: 224777\n",
      "\n",
      "\n",
      "State: ND, City: GRAND FORKS, Population: 59527\n",
      "State: ND, City: MINOT, Population: 42195\n",
      "State: ND, City: FARGO, Population: 38483\n",
      "\n",
      "\n",
      "State: NE, City: OMAHA, Population: 358930\n",
      "State: NE, City: LINCOLN, Population: 200630\n",
      "State: NE, City: MILLARD, Population: 50344\n",
      "\n",
      "\n",
      "State: NH, City: MANCHESTER, Population: 106452\n",
      "State: NH, City: NASHUA, Population: 80256\n",
      "State: NH, City: CONCORD, Population: 34035\n",
      "\n",
      "\n",
      "State: NJ, City: NEWARK, Population: 275572\n",
      "State: NJ, City: JERSEY CITY, Population: 228537\n",
      "State: NJ, City: PATERSON, Population: 141382\n",
      "\n",
      "\n",
      "State: NM, City: ALBUQUERQUE, Population: 449584\n",
      "State: NM, City: LAS CRUCES, Population: 97544\n",
      "State: NM, City: ROSWELL, Population: 53644\n",
      "\n",
      "\n",
      "State: NV, City: LAS VEGAS, Population: 597557\n",
      "State: NV, City: RENO, Population: 171542\n",
      "State: NV, City: HENDERSON, Population: 63455\n",
      "\n",
      "\n",
      "State: NY, City: BROOKLYN, Population: 2300504\n",
      "State: NY, City: NEW YORK, Population: 1476790\n",
      "State: NY, City: BRONX, Population: 1209548\n",
      "\n",
      "\n",
      "State: OH, City: CLEVELAND, Population: 536759\n",
      "State: OH, City: COLUMBUS, Population: 520096\n",
      "State: OH, City: CINCINNATI, Population: 342537\n",
      "\n",
      "\n",
      "State: OK, City: TULSA, Population: 389072\n",
      "State: OK, City: OKLAHOMA CITY, Population: 368141\n",
      "State: OK, City: LAWTON, Population: 82961\n",
      "\n",
      "\n",
      "State: OR, City: PORTLAND, Population: 518543\n",
      "State: OR, City: SALEM, Population: 114577\n",
      "State: OR, City: EUGENE, Population: 113602\n",
      "\n",
      "\n",
      "State: PA, City: PHILADELPHIA, Population: 1610956\n",
      "State: PA, City: ERIE, Population: 140829\n",
      "State: PA, City: ALLENTOWN, Population: 138574\n",
      "\n",
      "\n",
      "State: RI, City: CRANSTON, Population: 176404\n",
      "State: RI, City: WARWICK, Population: 82563\n",
      "State: RI, City: PROVIDENCE, Population: 76095\n",
      "\n",
      "\n",
      "State: SC, City: COLUMBIA, Population: 269521\n",
      "State: SC, City: CHARLESTON, Population: 212488\n",
      "State: SC, City: GREENVILLE, Population: 174902\n",
      "\n",
      "\n",
      "State: SD, City: SIOUX FALLS, Population: 102046\n",
      "State: SD, City: ROCKERVILLE, Population: 45328\n",
      "State: SD, City: ABERDEEN, Population: 28786\n",
      "\n",
      "\n",
      "State: TN, City: MEMPHIS, Population: 632837\n",
      "State: TN, City: NASHVILLE, Population: 349822\n",
      "State: TN, City: KNOXVILLE, Population: 211476\n",
      "\n",
      "\n",
      "State: TX, City: HOUSTON, Population: 2095918\n",
      "State: TX, City: DALLAS, Population: 940191\n",
      "State: TX, City: SAN ANTONIO, Population: 811792\n",
      "\n",
      "\n",
      "State: UT, City: SALT LAKE CITY, Population: 186346\n",
      "State: UT, City: OGDEN, Population: 121690\n",
      "State: UT, City: WEST VALLEY CITY, Population: 91746\n",
      "\n",
      "\n",
      "State: VA, City: VIRGINIA BEACH, Population: 385080\n",
      "State: VA, City: RICHMOND, Population: 289601\n",
      "State: VA, City: NORFOLK, Population: 233150\n",
      "\n",
      "\n",
      "State: VT, City: BURLINGTON, Population: 39127\n",
      "State: VT, City: RUTLAND, Population: 22576\n",
      "State: VT, City: BRATTLEBORO, Population: 17522\n",
      "\n",
      "\n",
      "State: WA, City: SEATTLE, Population: 520096\n",
      "State: WA, City: SPOKANE, Population: 283986\n",
      "State: WA, City: TACOMA, Population: 194282\n",
      "\n",
      "\n",
      "State: WI, City: MILWAUKEE, Population: 597324\n",
      "State: WI, City: MADISON, Population: 190189\n",
      "State: WI, City: RACINE, Population: 122994\n",
      "\n",
      "\n",
      "State: WV, City: HUNTINGTON, Population: 75343\n",
      "State: WV, City: STAR CITY, Population: 70185\n",
      "State: WV, City: CHARLESTON, Population: 53930\n",
      "\n",
      "\n",
      "State: WY, City: CHEYENNE, Population: 70185\n",
      "State: WY, City: CASPER, Population: 58825\n",
      "State: WY, City: LARAMIE, Population: 29349\n",
      "\n",
      "\n"
     ]
    }
   ],
   "source": [
    "# print nicely\n",
    "for i in q5:\n",
    "    for j in range(3):\n",
    "        try:\n",
    "            print(\"State:\", i['_id'] + \",\" , \n",
    "                  \"City:\", i['top-3'][j]['city'] + \",\" ,\n",
    "                  \"Population:\", i['top-3'][j]['pop'])\n",
    "        except:\n",
    "            None\n",
    "            \n",
    "    print(\"\\n\")"
   ]
  },
  {
   "cell_type": "markdown",
   "metadata": {},
   "source": [
    "## Q6"
   ]
  },
  {
   "cell_type": "markdown",
   "metadata": {},
   "source": [
    "Find the specialty of all doctors who have prescribed \"HALOPERIDOL\""
   ]
  },
  {
   "cell_type": "markdown",
   "metadata": {},
   "source": [
    "## Solution approach\n",
    "We first find the documents where doctors prescribed \"HALOPERIDOL\" and then we find all *distinct* specialities of doctors contained within those.\n",
    "\n",
    "Steps:\n",
    "1. Find the documents where \"HALOPERIDOL\" is contained in the embedded document under the field *cms_prescription_counts* field using the `$exists` operator. One peculiarity that we have not seen before, is that we can access fields within other fields using  a '.' to dive deeper into the tree structure of the document (e.g. `cms_prescription_counts.HALOPERIDOL`)\n",
    "\n",
    "2. Find all distinct specialties using the `.distinct()` method, specifying *provider_variables.specialty* as field. The returned object is a list."
   ]
  },
  {
   "cell_type": "code",
   "execution_count": 28,
   "metadata": {},
   "outputs": [],
   "source": [
    "specialties = db.prescriptions.find({\"cms_prescription_counts.HALOPERIDOL\":{\"$exists\":True}})\\\n",
    "                    .distinct(\"provider_variables.specialty\")"
   ]
  },
  {
   "cell_type": "markdown",
   "metadata": {},
   "source": [
    "An alterantive approach to the first step is to use the `$gt` operator and ask for the value of the nested field `cms_prescription_counts.HALOPERIDOL` to be greater than zero. This trick has the advantage that it  first finds the documents where the field exists, thus covering our first filter, while performing simultaneously a sanity check since a negative prescribed amount does not make sense. We checked that the results are indeed the same."
   ]
  },
  {
   "cell_type": "code",
   "execution_count": 29,
   "metadata": {},
   "outputs": [],
   "source": [
    "specialties = db.prescriptions.find({\"cms_prescription_counts.HALOPERIDOL\":{\"$gt\":0}})\\\n",
    "                    .distinct(\"provider_variables.specialty\")"
   ]
  },
  {
   "cell_type": "code",
   "execution_count": 30,
   "metadata": {},
   "outputs": [],
   "source": [
    "# check that the the two conditions are equivalent in this setting\n",
    "assert \\\n",
    "db.prescriptions.find({\"cms_prescription_counts.HALOPERIDOL\":{\"$gt\":0}})\\\n",
    "                    .distinct(\"provider_variables.specialty\")\\\n",
    "==\\\n",
    "\\\n",
    "db.prescriptions.find({\"cms_prescription_counts.HALOPERIDOL\":{\"$exists\":True}})\\\n",
    "                    .distinct(\"provider_variables.specialty\")"
   ]
  },
  {
   "cell_type": "markdown",
   "metadata": {},
   "source": [
    "## Q6 Answer\n",
    "\n",
    "There are in total 86 different specialties, as shown in the list below:"
   ]
  },
  {
   "cell_type": "code",
   "execution_count": 31,
   "metadata": {},
   "outputs": [
    {
     "data": {
      "text/plain": [
       "86"
      ]
     },
     "execution_count": 31,
     "metadata": {},
     "output_type": "execute_result"
    }
   ],
   "source": [
    "len(specialties)"
   ]
  },
  {
   "cell_type": "code",
   "execution_count": 32,
   "metadata": {},
   "outputs": [
    {
     "name": "stdout",
     "output_type": "stream",
     "text": [
      "['Acute Care', 'Addiction (Substance Use Disorder)', 'Addiction Medicine', 'Addiction Psychiatry', 'Adolescent Medicine', 'Adolescent and Children Mental Health', 'Adult Health', 'Adult Medicine', 'Adult Mental Health', 'Allergy & Immunology', 'Anatomic Pathology', 'Anatomic Pathology & Clinical Pathology', 'Behavioral Neurology & Neuropsychiatry', 'Cardiovascular Disease', 'Child & Adolescent Psychiatry', 'Clinical', 'Clinical Cardiac Electrophysiology', 'Clinical Child & Adolescent', 'Clinical Neurophysiology', 'Cognitive & Behavioral', 'Community Health', 'Critical Care Medicine', 'Developmental \\x96 Behavioral Pediatrics', 'Diagnostic Neuroimaging', 'Diagnostic Radiology', 'Emergency Medical Services', 'Endocrinology, Diabetes & Metabolism', 'Endodontics', 'Family', 'Family Health', 'Foot & Ankle Surgery', 'Forensic Psychiatry', 'Gastroenterology', 'General Practice', 'Geriatric Medicine', 'Geriatric Psychiatry', 'Gerontology', 'Gynecologic Oncology', 'Gynecology', 'Hematology', 'Hematology & Oncology', 'Hospice and Palliative Medicine', 'Infectious Disease', 'Interventional Cardiology', 'Medical', 'Medical Oncology', 'Medical Specialty', 'Medical Toxicology', 'Medical-Surgical', 'Mental Health', 'Mental Health (Including Community Mental Health Center)', 'Mental Retardation & Developmental Disabilities', 'Nephrology', 'Neurodevelopmental Disabilities', 'Neurology', 'Neurology with Special Qualifications in Child Neurology', 'Occupational Medicine', 'Oral and Maxillofacial Surgery', 'Pain Medicine', 'Pediatric Gastroenterology', 'Pediatric Infectious Diseases', 'Pediatrics', 'Pharmacotherapy', 'Prescribing (Medical)', 'Preventive Medicine/Occupational Environmental Medicine', 'Primary Care', 'Professional', 'Psych/Mental Health', 'Psych/Mental Health, Adult', 'Psych/Mental Health, Child & Adolescent', 'Psych/Mental Health, Chronically Ill', 'Psych/Mental Health, Community', 'Psych/Mental Health, Geropsychiatric', 'Psychiatric', 'Psychiatry', 'Psychosomatic Medicine', 'Public Health & General Preventive Medicine', 'Pulmonary Disease', 'Research Study', 'Rheumatology', 'Sleep Medicine', 'Sports Medicine', 'Surgical Technologist', 'Undersea and Hyperbaric Medicine', 'Vascular Neurology', \"Women's Health\"]\n"
     ]
    }
   ],
   "source": [
    "print(specialties)"
   ]
  },
  {
   "cell_type": "markdown",
   "metadata": {},
   "source": [
    "## Q7"
   ]
  },
  {
   "cell_type": "markdown",
   "metadata": {},
   "source": [
    "Find the total number of doctors, separately for each region (in one query)"
   ]
  },
  {
   "cell_type": "markdown",
   "metadata": {},
   "source": [
    "## Solution approach\n",
    "We will count the number of doctors operating in each region by grouping by the *region* field, located within the *provider_variables* field and aggregate in two steps. First, we append  the *npi*s of doctors operating in the same region in a set (every value is contained only once, there are no duplicate values as per the set's definition), and then we calculate the size of the set. The size of the set gives us the total number of doctors in each region.\n",
    "\n",
    "Steps:\n",
    "1. Pipeline which consists of two steps:\n",
    "    - Group by *provider_varibales.region* and aggregate by creating a set (via `$addToSet` operator) and appending there all relevant npis : `{\"$group\":{\"_id\": \"$provider_variables.region\", \"uniqueNPIs\": {\"$addToSet\": \"$npi\"}}}`\n",
    "    - Project only the size of the set, which can be done via the `$size` operator: `{\"$project\":{\"unique_doctors_per_region\":{\"$size\":\"$uniqueNPIs\"}}}`\n",
    "    \n",
    "2. Apply pipeline"
   ]
  },
  {
   "cell_type": "code",
   "execution_count": 33,
   "metadata": {},
   "outputs": [],
   "source": [
    "q7_pipeline = [\n",
    "    \n",
    "    {\"$group\":{\"_id\": \"$provider_variables.region\", \"uniqueNPIs\": {\"$addToSet\": \"$npi\"}}},\n",
    "    {\"$project\":{\"unique_doctors_per_region\":{\"$size\":\"$uniqueNPIs\"}}}\n",
    "]"
   ]
  },
  {
   "cell_type": "code",
   "execution_count": 34,
   "metadata": {},
   "outputs": [
    {
     "data": {
      "text/plain": [
       "{'_id': 'Midwest', 'unique_doctors_per_region': 50077}"
      ]
     },
     "execution_count": 34,
     "metadata": {},
     "output_type": "execute_result"
    }
   ],
   "source": [
    "# apply pipeline\n",
    "q7 = list(db.prescriptions.aggregate(q7_pipeline))\n",
    "# preview results\n",
    "q7[0]"
   ]
  },
  {
   "cell_type": "markdown",
   "metadata": {},
   "source": [
    "## Q7 Answer\n"
   ]
  },
  {
   "cell_type": "code",
   "execution_count": 35,
   "metadata": {},
   "outputs": [
    {
     "name": "stdout",
     "output_type": "stream",
     "text": [
      "Region: Midwest, Total Doctors: 50077\n",
      "Region: Northeast, Total Doctors: 59012\n",
      "Region: West, Total Doctors: 50279\n",
      "Region: South, Total Doctors: 80562\n"
     ]
    }
   ],
   "source": [
    "# print nicely!\n",
    "for i in q7:\n",
    "    print(\"Region:\", i['_id']+ \",\", \"Total Doctors:\", i['unique_doctors_per_region'])"
   ]
  },
  {
   "cell_type": "markdown",
   "metadata": {},
   "source": [
    "## Q8"
   ]
  },
  {
   "cell_type": "markdown",
   "metadata": {},
   "source": [
    "Find the total amount of prescribed \"ATORVASTATIN CALCIUM\""
   ]
  },
  {
   "cell_type": "markdown",
   "metadata": {},
   "source": [
    "We create a pipeline which consists of two actions:\n",
    "1. We filter out all  documents where ATORVASTATIN CALCIUM was not prescribed using the `$match` operator: `{\"$match\":{\"cms_prescription_counts.ATORVASTATIN CALCIUM\":{\"$gt\":0}}}`\n",
    "2. We group by a null value (we do not need a key) and sum up the prescribed amount of all documents using the `$group` operator with the `$sum` aggregator function. : `{\"$group\": {\"_id\": \"$null\", \"total_amount_prescribed\": {\"$sum\": \"$cms_prescription_counts.ATORVASTATIN CALCIUM\"}}}`\n",
    "\n",
    "\n",
    "**Note**: Even though we do not require a key in the `$group` operator, we do require the `$group` process overall. Applying the `$sum` operator with a simple `$project` operation would not give correct results, as `$sum` is designed to add elements within an array-type object (e.g., a set or a list). Here, each document has only one prescription amount, which means addition is not taking place."
   ]
  },
  {
   "cell_type": "code",
   "execution_count": 36,
   "metadata": {},
   "outputs": [],
   "source": [
    "q8_pipeline = [\n",
    "    {\"$match\":{\"cms_prescription_counts.ATORVASTATIN CALCIUM\":{\"$gt\":0}}},\n",
    "    \n",
    "    {\"$group\": {\"_id\": \"$null\",\n",
    "                          \"total_amount_prescribed\": {\"$sum\": \"$cms_prescription_counts.ATORVASTATIN CALCIUM\"}}}\n",
    "    \n",
    "   ]"
   ]
  },
  {
   "cell_type": "code",
   "execution_count": 37,
   "metadata": {},
   "outputs": [
    {
     "data": {
      "text/plain": [
       "{'_id': None, 'total_amount_prescribed': 4534888}"
      ]
     },
     "execution_count": 37,
     "metadata": {},
     "output_type": "execute_result"
    }
   ],
   "source": [
    "# apply pipeline\n",
    "q8 = list(db.prescriptions.aggregate(q8_pipeline))\n",
    "# preview results\n",
    "q8[0]"
   ]
  },
  {
   "cell_type": "markdown",
   "metadata": {},
   "source": [
    "## Q8 Answer"
   ]
  },
  {
   "cell_type": "code",
   "execution_count": 38,
   "metadata": {},
   "outputs": [
    {
     "name": "stdout",
     "output_type": "stream",
     "text": [
      "Total amount of prescribed ATORVASTATIN CALCIUM : 4534888\n"
     ]
    }
   ],
   "source": [
    "# print nicely\n",
    "print(\"Total amount of prescribed ATORVASTATIN CALCIUM :\", q8[0]['total_amount_prescribed'])"
   ]
  },
  {
   "cell_type": "markdown",
   "metadata": {},
   "source": [
    "## Q9"
   ]
  },
  {
   "cell_type": "markdown",
   "metadata": {},
   "source": [
    "Find the drug that is prescribed by the most of doctors working in \"non-urban\" areas. (in terms\n",
    "of number of doctors who prescribed it, not the total amount of prescriptions)."
   ]
  },
  {
   "cell_type": "markdown",
   "metadata": {},
   "source": [
    "## Solution approach\n",
    "\n",
    "We create a pipeline executing the following actions:\n",
    "\n",
    "Steps:  \n",
    "1. First, we find only documents where the provider's (doctor's) *settlement_type* field is \"non-urban\", using the `$match` operator and the operator `$eq` to compare strings.\n",
    "2. We convert the *'cm_prescription_counts'* dictionary into a list of dictionaries, each containing two entries. The name of the drug (previously a key in the dictionary) is converted into the value of a new key 'k'. Similarly, the prescribed amount is now a value to a new key called 'v'. As a result, the field *cm_prescription_counts* ends up being a list of the form: `[{'k': 'DOXAZOSIN MESYLATE', 'v': 26},...]`), for each document. This is achieved through the use of the `$objectToArray` operator. Using the `$project` operator, we discard all other fields and work only with *cm_prescription_counts*.\n",
    "3. We use the `$unwind` operator to break down the aforementioned list into new, separate documents. Each new document will be composed of the '_id' attribute and only one of the prescribed drugs. A document containing two prescriptions as a list (see step 2), e.g., `[{'k': 'DOXAZOSIN MESYLATE', 'v': 26}, {'k': 'MEGESTROL ACETATE', 'v': 11}]` would now be decomposed into two new documents, the first having  only`[{'k': 'DOXAZOSIN MESYLATE', 'v': 26}]` as *cm_prescription_counts* and the second only `[{'k': 'MEGESTROL ACETATE', 'v': 11}]`.\n",
    "4.  Using the  operator `$group`, we group by the name of each drug (*cms_prescription_counts.k*), and aggreate by summing 1s for each occurance. That way we count the total amount of times that the drug has been prescribed.\n",
    "5. We sort the results in descending order based on the prescribed amount with the help of the `$sort` operator.\n",
    "6. We limit the results to be the most prescribed drug only using the `$limit` operator."
   ]
  },
  {
   "cell_type": "code",
   "execution_count": 39,
   "metadata": {},
   "outputs": [],
   "source": [
    "q9_pipeline = [\n",
    "    \n",
    "    {\n",
    "        \"$match\":{\n",
    "            \"provider_variables.settlement_type\":{\n",
    "                \"$eq\": \"non-urban\"}\n",
    "        } \n",
    "    },\n",
    "    \n",
    "    {\n",
    "        \n",
    "    \"$project\": {\n",
    "      \"cms_prescription_counts\": {\n",
    "        \"$objectToArray\": \"$cms_prescription_counts\"\n",
    "      }\n",
    "    }\n",
    "  },\n",
    " {\n",
    "    \"$unwind\": \"$cms_prescription_counts\"\n",
    "  },\n",
    "\n",
    "{\n",
    "    \"$group\": {\n",
    "      \"_id\": \"$cms_prescription_counts.k\",\n",
    "      \"count\": {\n",
    "        \"$sum\": 1\n",
    "      },\n",
    "    }\n",
    "},\n",
    "\n",
    "{\n",
    "    \"$sort\": {\"count\": -1, \"_id\": 1 }\n",
    "},\n",
    "\n",
    "{\n",
    "    \"$limit\" : 1\n",
    "}\n",
    "\n",
    "]"
   ]
  },
  {
   "cell_type": "code",
   "execution_count": 40,
   "metadata": {},
   "outputs": [
    {
     "data": {
      "text/plain": [
       "[{'_id': 'HYDROCODONE-ACETAMINOPHEN', 'count': 42784}]"
      ]
     },
     "execution_count": 40,
     "metadata": {},
     "output_type": "execute_result"
    }
   ],
   "source": [
    "# execute pipeline\n",
    "q9= list(db.prescriptions.aggregate(q9_pipeline))\n",
    "# preview results\n",
    "q9"
   ]
  },
  {
   "cell_type": "markdown",
   "metadata": {},
   "source": [
    "## Q9 answer"
   ]
  },
  {
   "cell_type": "code",
   "execution_count": 41,
   "metadata": {},
   "outputs": [
    {
     "name": "stdout",
     "output_type": "stream",
     "text": [
      "Most prescribed drug in non-urban areas: HYDROCODONE-ACETAMINOPHEN, Total prescriptions: 42784\n"
     ]
    }
   ],
   "source": [
    "# print nicely\n",
    "print(\"Most prescribed drug in non-urban areas:\", q9[0]['_id'] + \",\",\n",
    "      \"Total prescriptions:\", q9[0]['count'] )"
   ]
  },
  {
   "cell_type": "markdown",
   "metadata": {},
   "source": [
    "## Q10"
   ]
  },
  {
   "cell_type": "markdown",
   "metadata": {},
   "source": [
    "Considering the region of US states (Query #4) and the region of each doctor, find the average\n",
    "number of doctors per capita in each of the four regions in US"
   ]
  },
  {
   "cell_type": "markdown",
   "metadata": {},
   "source": [
    "## Solution approach\n",
    "\n",
    "There are various alternatives as to how to approach this question. First, we catch sight of the fact that the total population by region is not available in the *prescriptions* collection and that we will need to incorporate the results from Query 4 into our analysis. Second, the task at hand also shares similarities wit Query 7 in terms of finding the total number of doctors per region. We decide to take the following approach:\n",
    "\n",
    " - We will create a new collection in the database called *region_populations* which will contain four documents, one for each region. The format of each document will be: `{'_id': 'Region' (= e.g. 'South'),  'population' : numerical value}`. In fact, we make use of the already extracted dictionary *population_by_region* obtained in Q4, which contains that exact information in the descired format. We thus first create a new collection using `.create_colection(\"region_populations\")` and then we proceed with populating that collection with the four documents entailed in the dictionary *population_by_region* using the method `.insert_many(population_by_region)`\n"
   ]
  },
  {
   "cell_type": "code",
   "execution_count": 42,
   "metadata": {},
   "outputs": [
    {
     "data": {
      "text/plain": [
       "[{'_id': 'Midwest', 'population': 59652438},\n",
       " {'_id': 'Northeast', 'population': 50807650},\n",
       " {'_id': 'West', 'population': 52774790},\n",
       " {'_id': 'South', 'population': 85173522}]"
      ]
     },
     "execution_count": 42,
     "metadata": {},
     "output_type": "execute_result"
    }
   ],
   "source": [
    "# dictionary from Q4\n",
    "population_by_region"
   ]
  },
  {
   "cell_type": "code",
   "execution_count": 43,
   "metadata": {},
   "outputs": [
    {
     "data": {
      "text/plain": [
       "[{'_id': 'Midwest', 'population': 59652438},\n",
       " {'_id': 'Northeast', 'population': 50807650},\n",
       " {'_id': 'West', 'population': 52774790},\n",
       " {'_id': 'South', 'population': 85173522}]"
      ]
     },
     "execution_count": 43,
     "metadata": {},
     "output_type": "execute_result"
    }
   ],
   "source": [
    "# create new collection\n",
    "db.create_collection(\"region_populations\")\n",
    "# populate new collection\n",
    "db.region_populations.insert_many(population_by_region)\n",
    "# preview new collection\n",
    "list(db.region_populations.find())"
   ]
  },
  {
   "cell_type": "markdown",
   "metadata": {},
   "source": [
    "- The second step involes creating the pipeline. It consists of 4 steps in total (5 different actions). \n",
    "\n",
    "    1. The first step in the pipeline is comprised of 2 actions and is identical to the one from Q7. In other words, it calculates the total number of doctors in each region. We can think the output of this first step as a list containing 4 documents that will be passed on to the next stage of the pipeline. Each one will have two fields, an *_id* which will be the name of the region and a field named *unique_doctors_per_region* containing the number of doctors. The document collection will take the form: `[{_id': 'South', 'unique_doctors_per_region: 80562}, {2nd document} {3rd}, {4th}]`\n",
    "    \n",
    "    2. The second step is a `$lookup` operation that appends relevant information to each of the four documents from step 1. The appended information comes from the new collection (*`'from'` region_populations*) we created previously. Specifically, we use the value of the '_id' field as the key value to match which information from the new collection (`foreignField`) should be appended to which document of the current collection (`localField`). In other words, the document pertaining to the region 'South' will get a new field (named *region_pop* via the *`'as'`* arugment) containing  information about the total population in the South from the *region_populations* collection. The collection of documents now takes the form:  `[{'_id': 'South', 'unique_doctors_per_region': 80562 , 'region_pop': [{'_id': 'South', 'population': 85173522}]}, {2nd document}, {3rd}, {4th}]`\n",
    "    \n",
    "    3. The third step is an adjustment we need to make to be able to easily access the value of a region's population. Currently the value of the new field `region_pop` is a an array(list)-type object, which means we cannot use the '.' notation to reach the population value as in `region_pop.population`. We can work around that using the `$unwind` operator which turns the list/array into a dictionary of values. Now we can use  `region_pop.population`.\n",
    "    \n",
    "    4. The last step involves projecting the division (unique_doctors_per_region / region_population). The division is achieved through the `$divide` operator as seen in the pipeline. What is more, we use the `$project` operator to get rid of the now redundant fields such as *unique_doctors_per_region* and *population*. That results into the division result being the only thing that remains on each document (along with the '_id' value which is always there by default unless explicitly specified otherwise)"
   ]
  },
  {
   "cell_type": "code",
   "execution_count": 44,
   "metadata": {},
   "outputs": [],
   "source": [
    "q10_pipeline = [ \n",
    "    \n",
    "{\"$group\":{\"_id\": \"$provider_variables.region\", \"uniqueNPIs\": {\"$addToSet\": \"$npi\"}}},\n",
    "{\"$project\":{\"unique_doctors_per_region\":{\"$size\":\"$uniqueNPIs\"}}},\n",
    "    \n",
    "    {\"$lookup\": {\n",
    "    \"from\": \"region_populations\",\n",
    "    \"localField\": \"_id\",\n",
    "    \"foreignField\": \"_id\",\n",
    "    \"as\": \"region_pop\"}},\n",
    "\n",
    "{'$unwind': { 'path': '$region_pop'} },\n",
    "    \n",
    "{\"$project\":{\"Doctors_per_capita\":{\"$divide\":[\"$unique_doctors_per_region\",\"$region_pop.population\"]}}}\n",
    "]"
   ]
  },
  {
   "cell_type": "code",
   "execution_count": 45,
   "metadata": {},
   "outputs": [
    {
     "data": {
      "text/plain": [
       "{'_id': 'Midwest', 'Doctors_per_capita': 0.0008394795196803188}"
      ]
     },
     "execution_count": 45,
     "metadata": {},
     "output_type": "execute_result"
    }
   ],
   "source": [
    "# apply pipeline\n",
    "q10 = list(db.prescriptions.aggregate(q10_pipeline))\n",
    "# preview results\n",
    "q10[1]"
   ]
  },
  {
   "cell_type": "markdown",
   "metadata": {},
   "source": [
    "## Q10 answer"
   ]
  },
  {
   "cell_type": "code",
   "execution_count": 46,
   "metadata": {},
   "outputs": [
    {
     "name": "stdout",
     "output_type": "stream",
     "text": [
      "Region: Northeast, Doctors per capita: 0.0011614786355991667\n",
      "Region: Midwest, Doctors per capita: 0.0008394795196803188\n",
      "Region: South, Doctors per capita: 0.0009458573287599872\n",
      "Region: West, Doctors per capita: 0.0009527086701813499\n"
     ]
    }
   ],
   "source": [
    "# print nicely!\n",
    "for i in q10:\n",
    "    print(\"Region:\", i['_id'] + ',', \"Doctors per capita:\", i['Doctors_per_capita'])"
   ]
  },
  {
   "cell_type": "code",
   "execution_count": 47,
   "metadata": {},
   "outputs": [],
   "source": [
    "# delete new collection after use\n",
    "db.region_populations.drop()"
   ]
  }
 ],
 "metadata": {
  "kernelspec": {
   "display_name": "Python 3 (ipykernel)",
   "language": "python",
   "name": "python3"
  },
  "language_info": {
   "codemirror_mode": {
    "name": "ipython",
    "version": 3
   },
   "file_extension": ".py",
   "mimetype": "text/x-python",
   "name": "python",
   "nbconvert_exporter": "python",
   "pygments_lexer": "ipython3",
   "version": "3.10.4"
  }
 },
 "nbformat": 4,
 "nbformat_minor": 4
}
